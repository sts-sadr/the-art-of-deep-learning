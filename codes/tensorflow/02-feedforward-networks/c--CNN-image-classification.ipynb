{
 "cells": [
  {
   "cell_type": "code",
   "execution_count": 1,
   "metadata": {},
   "outputs": [],
   "source": [
    "import tensorflow as tf\n",
    "import tensorflow_datasets as tfds\n",
    "import numpy as np\n",
    "import matplotlib.pyplot as plt\n",
    "%matplotlib inline"
   ]
  },
  {
   "cell_type": "code",
   "execution_count": 4,
   "metadata": {},
   "outputs": [
    {
     "data": {
      "text/plain": [
       "{'test': <_OptionsDataset shapes: {image: (28, 28, 1), label: ()}, types: {image: tf.uint8, label: tf.int64}>,\n",
       " 'train': <_OptionsDataset shapes: {image: (28, 28, 1), label: ()}, types: {image: tf.uint8, label: tf.int64}>}"
      ]
     },
     "execution_count": 4,
     "metadata": {},
     "output_type": "execute_result"
    }
   ],
   "source": [
    "mnist_dataset = tfds.load('mnist')\n",
    "\n",
    "mnist_dataset"
   ]
  },
  {
   "cell_type": "code",
   "execution_count": 12,
   "metadata": {},
   "outputs": [
    {
     "data": {
      "text/plain": [
       "(TensorShape([28, 28, 1]), TensorShape([]))"
      ]
     },
     "execution_count": 12,
     "metadata": {},
     "output_type": "execute_result"
    }
   ],
   "source": [
    "ds_train = mnist_dataset['train']\n",
    "ds_test = mnist_dataset['test']\n",
    "\n",
    "batch, = ds_train.take(1)\n",
    "batch['image'].shape, batch['label'].shape"
   ]
  },
  {
   "cell_type": "code",
   "execution_count": 59,
   "metadata": {},
   "outputs": [
    {
     "data": {
      "text/plain": [
       "(TensorShape([32, 28, 28, 1]), TensorShape([32]))"
      ]
     },
     "execution_count": 59,
     "metadata": {},
     "output_type": "execute_result"
    }
   ],
   "source": [
    "ds_train = mnist_dataset['train']\n",
    "ds_test = mnist_dataset['test']\n",
    "\n",
    "ds_train = ds_train.map(lambda x: (x['image'], x['label']))\n",
    "ds_train = ds_train.shuffle(buffer_size=10000)\n",
    "ds_train = ds_train.repeat()\n",
    "ds_train = ds_train.batch(32)\n",
    "\n",
    "batch, = ds_train.take(1)\n",
    "batch[0].shape, batch[1].shape"
   ]
  },
  {
   "cell_type": "code",
   "execution_count": null,
   "metadata": {},
   "outputs": [],
   "source": []
  },
  {
   "cell_type": "code",
   "execution_count": 65,
   "metadata": {},
   "outputs": [
    {
     "data": {
      "text/plain": [
       "TensorShape([None, 10])"
      ]
     },
     "execution_count": 65,
     "metadata": {},
     "output_type": "execute_result"
    }
   ],
   "source": [
    "model = tf.keras.models.Sequential([\n",
    "    tf.keras.layers.Conv2D(filters=16, kernel_size=(3, 3),\n",
    "                           strides=(1, 1), padding='same',\n",
    "                           activation='relu', \n",
    "                           data_format='channels_last',\n",
    "                           input_shape=(28, 28, 1)),\n",
    "    tf.keras.layers.MaxPool2D(pool_size=(2, 2), \n",
    "                              strides=(2, 2),\n",
    "                              padding='valid'),\n",
    "    \n",
    "    tf.keras.layers.Conv2D(filters=32, kernel_size=(3, 3),\n",
    "                           strides=(1, 1), padding='same',\n",
    "                           activation='relu'),\n",
    "    tf.keras.layers.MaxPool2D(pool_size=(2, 2), \n",
    "                              strides=(2, 2),\n",
    "                              padding='valid'),\n",
    "    \n",
    "    tf.keras.layers.Flatten(),\n",
    "    tf.keras.layers.Dense(128, activation='relu'),\n",
    "    tf.keras.layers.Dropout(0.2),\n",
    "    tf.keras.layers.Dense(10, activation='softmax')\n",
    "])\n",
    "\n",
    "\n",
    "model.compute_output_shape(input_shape=(None, 28, 28, 1))\n"
   ]
  },
  {
   "cell_type": "code",
   "execution_count": 66,
   "metadata": {},
   "outputs": [],
   "source": [
    "model.compile(optimizer='adam',\n",
    "              loss='sparse_categorical_crossentropy',\n",
    "              metrics=['accuracy'])"
   ]
  },
  {
   "cell_type": "code",
   "execution_count": null,
   "metadata": {},
   "outputs": [],
   "source": []
  },
  {
   "cell_type": "code",
   "execution_count": null,
   "metadata": {},
   "outputs": [],
   "source": [
    "ds_train = "
   ]
  },
  {
   "cell_type": "code",
   "execution_count": 67,
   "metadata": {},
   "outputs": [
    {
     "name": "stdout",
     "output_type": "stream",
     "text": [
      "Epoch 1/10\n",
      "1563/1563 [==============================] - 18s 12ms/step - loss: 4.6179 - accuracy: 0.6859\n",
      "Epoch 2/10\n",
      "1563/1563 [==============================] - 17s 11ms/step - loss: 0.0896 - accuracy: 0.9734\n",
      "Epoch 3/10\n",
      "1563/1563 [==============================] - 17s 11ms/step - loss: 0.0616 - accuracy: 0.9813\n",
      "Epoch 4/10\n",
      "1563/1563 [==============================] - 17s 11ms/step - loss: 0.0529 - accuracy: 0.9838\n",
      "Epoch 5/10\n",
      "1563/1563 [==============================] - 16s 11ms/step - loss: 0.0457 - accuracy: 0.9856\n",
      "Epoch 6/10\n",
      "1563/1563 [==============================] - 16s 10ms/step - loss: 0.0420 - accuracy: 0.9875\n",
      "Epoch 7/10\n",
      "1563/1563 [==============================] - 17s 11ms/step - loss: 0.0363 - accuracy: 0.9887\n",
      "Epoch 8/10\n",
      "1563/1563 [==============================] - 16s 11ms/step - loss: 0.0346 - accuracy: 0.9896\n",
      "Epoch 9/10\n",
      "1563/1563 [==============================] - 17s 11ms/step - loss: 0.0300 - accuracy: 0.9915\n",
      "Epoch 10/10\n",
      "1563/1563 [==============================] - 17s 11ms/step - loss: 0.0326 - accuracy: 0.9905\n"
     ]
    }
   ],
   "source": [
    "history = model.fit(ds_train, epochs=10, steps_per_epoch=np.ceil(50000 / 32))"
   ]
  },
  {
   "cell_type": "markdown",
   "metadata": {},
   "source": [
    "## Prediciton on the test-set"
   ]
  },
  {
   "cell_type": "code",
   "execution_count": 86,
   "metadata": {},
   "outputs": [
    {
     "name": "stdout",
     "output_type": "stream",
     "text": [
      "10000 10000\n",
      "[6, 2, 3, 7] [6, 2, 3, 7]\n",
      "Test Accuracy ::  0.9885\n"
     ]
    }
   ],
   "source": [
    "ds_test = mnist_dataset['test']\n",
    "\n",
    "ds_test = ds_test.batch(32)\n",
    "\n",
    "\n",
    "test_labels = []\n",
    "test_preds = []\n",
    "for batch in ds_test:\n",
    "    proba = model.predict(batch['image'])\n",
    "    preds = tf.argmax(proba, axis=1)\n",
    "    test_preds.extend(list(preds.numpy()))\n",
    "    test_labels.extend(list(batch['label'].numpy()))\n",
    "    \n",
    "print(len(test_labels), len(test_preds))\n",
    "print(test_labels[:4], test_preds[:4])\n",
    "\n",
    "correct = np.sum(np.array(test_labels) == np.array(test_preds))\n",
    "print('Test Accuracy :: ', correct / len(test_labels))"
   ]
  },
  {
   "cell_type": "markdown",
   "metadata": {},
   "source": [
    "## Saving the model"
   ]
  },
  {
   "cell_type": "code",
   "execution_count": 89,
   "metadata": {},
   "outputs": [],
   "source": [
    "config = model.get_config()"
   ]
  },
  {
   "cell_type": "code",
   "execution_count": 90,
   "metadata": {},
   "outputs": [],
   "source": [
    "json_config = model.to_json()\n",
    "\n",
    "with open('mnist-clf.json', 'w') as json_file:\n",
    "    json_file.write(json_config)\n",
    "    \n",
    "model.save_weights('mnist-clf-weights.h5')"
   ]
  },
  {
   "cell_type": "markdown",
   "metadata": {},
   "source": [
    "## Restart the kernel"
   ]
  },
  {
   "cell_type": "code",
   "execution_count": 1,
   "metadata": {},
   "outputs": [],
   "source": [
    "import tensorflow as tf\n",
    "import tensorflow_datasets as tfds\n",
    "import numpy as np\n"
   ]
  },
  {
   "cell_type": "code",
   "execution_count": 2,
   "metadata": {},
   "outputs": [
    {
     "name": "stdout",
     "output_type": "stream",
     "text": [
      "10000 10000\n",
      "[6, 2, 3, 7] [6, 2, 3, 7]\n",
      "Test Accuracy ::  0.9885\n"
     ]
    }
   ],
   "source": [
    "## setup the dataset:\n",
    "mnist_dataset = tfds.load('mnist')\n",
    "ds_test = mnist_dataset['test']\n",
    "ds_test = ds_test.batch(32)\n",
    "\n",
    "\n",
    "## restore the saved model\n",
    "with open('mnist-clf.json') as json_file:\n",
    "    json_config = json_file.read()\n",
    "\n",
    "model = tf.keras.models.model_from_json(json_config)\n",
    "model.load_weights('mnist-clf-weights.h5')\n",
    "\n",
    "\n",
    "## prediciton on the test-set\n",
    "\n",
    "test_labels = []\n",
    "test_preds = []\n",
    "for batch in ds_test:\n",
    "    proba = model.predict(batch['image'])\n",
    "    preds = tf.argmax(proba, axis=1)\n",
    "    test_preds.extend(list(preds.numpy()))\n",
    "    test_labels.extend(list(batch['label'].numpy()))\n",
    "    \n",
    "print(len(test_labels), len(test_preds))\n",
    "print(test_labels[:4], test_preds[:4])\n",
    "\n",
    "correct = np.sum(np.array(test_labels) == np.array(test_preds))\n",
    "print('Test Accuracy :: ', correct / len(test_labels))"
   ]
  },
  {
   "cell_type": "code",
   "execution_count": null,
   "metadata": {},
   "outputs": [],
   "source": []
  }
 ],
 "metadata": {
  "kernelspec": {
   "display_name": "Python 3",
   "language": "python",
   "name": "python3"
  },
  "language_info": {
   "codemirror_mode": {
    "name": "ipython",
    "version": 3
   },
   "file_extension": ".py",
   "mimetype": "text/x-python",
   "name": "python",
   "nbconvert_exporter": "python",
   "pygments_lexer": "ipython3",
   "version": "3.6.8"
  }
 },
 "nbformat": 4,
 "nbformat_minor": 2
}
