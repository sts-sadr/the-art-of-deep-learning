{
 "cells": [
  {
   "cell_type": "markdown",
   "metadata": {},
   "source": [
    "# Develop a simple linear regression model"
   ]
  },
  {
   "cell_type": "code",
   "execution_count": 1,
   "metadata": {},
   "outputs": [],
   "source": [
    "import tensorflow as tf\n",
    "import numpy as np\n",
    "import matplotlib.pyplot as plt\n",
    "%matplotlib inline"
   ]
  },
  {
   "cell_type": "code",
   "execution_count": 3,
   "metadata": {},
   "outputs": [
    {
     "data": {
      "text/plain": [
       "[<matplotlib.lines.Line2D at 0x7f9a9b885400>]"
      ]
     },
     "execution_count": 3,
     "metadata": {},
     "output_type": "execute_result"
    },
    {
     "data": {
      "image/png": "[encoded data removed]",
      "text/plain": [
       "<Figure size 432x288 with 1 Axes>"
      ]
     },
     "metadata": {
      "needs_background": "light"
     },
     "output_type": "display_data"
    }
   ],
   "source": [
    "X_train = np.arange(10).reshape((10, 1))\n",
    "y_train = np.array([1.0, 1.3, 3.1,\n",
    "                    2.0, 5.0, 6.3,\n",
    "                    6.6, 7.4, 8.0,\n",
    "                    9.0])\n",
    "\n",
    "X_train_norm = (X_train - np.mean(X_train))/np.std(X_train)\n",
    "y_train_norm = (y_train - np.mean(y_train))/np.std(y_train)\n",
    "\n",
    "plt.plot(X_train_norm, y_train_norm, 'o', markersize=10)"
   ]
  },
  {
   "cell_type": "markdown",
   "metadata": {},
   "source": [
    "#### Building dataset: method 1"
   ]
  },
  {
   "cell_type": "code",
   "execution_count": 4,
   "metadata": {},
   "outputs": [
    {
     "data": {
      "text/plain": [
       "<TensorSliceDataset shapes: (1,), types: tf.float32>"
      ]
     },
     "execution_count": 4,
     "metadata": {},
     "output_type": "execute_result"
    }
   ],
   "source": [
    "ds_x = tf.data.Dataset.from_tensor_slices(tf.cast(X_train_norm, tf.float32))\n",
    "ds_x"
   ]
  },
  {
   "cell_type": "code",
   "execution_count": 5,
   "metadata": {},
   "outputs": [
    {
     "data": {
      "text/plain": [
       "<TensorSliceDataset shapes: (), types: tf.float32>"
      ]
     },
     "execution_count": 5,
     "metadata": {},
     "output_type": "execute_result"
    }
   ],
   "source": [
    "ds_y = tf.data.Dataset.from_tensor_slices(tf.cast(y_train_norm, tf.float32))\n",
    "ds_y"
   ]
  },
  {
   "cell_type": "code",
   "execution_count": null,
   "metadata": {},
   "outputs": [],
   "source": []
  },
  {
   "cell_type": "markdown",
   "metadata": {},
   "source": [
    "#### Building dataset: method 2"
   ]
  },
  {
   "cell_type": "code",
   "execution_count": 6,
   "metadata": {},
   "outputs": [
    {
     "data": {
      "text/plain": [
       "<TensorSliceDataset shapes: ((1,), ()), types: (tf.float32, tf.float32)>"
      ]
     },
     "execution_count": 6,
     "metadata": {},
     "output_type": "execute_result"
    }
   ],
   "source": [
    "ds = tf.data.Dataset.from_tensor_slices((tf.cast(X_train_norm, tf.float32),\n",
    "                                         tf.cast(y_train_norm, tf.float32)))\n",
    "\n",
    "ds"
   ]
  },
  {
   "cell_type": "code",
   "execution_count": null,
   "metadata": {},
   "outputs": [],
   "source": []
  },
  {
   "cell_type": "markdown",
   "metadata": {},
   "source": [
    "### Repeat,  shuffle, and batch:"
   ]
  },
  {
   "cell_type": "code",
   "execution_count": 7,
   "metadata": {},
   "outputs": [
    {
     "data": {
      "text/plain": [
       "(<tf.Tensor: id=31, shape=(4, 1), dtype=float32, numpy=\n",
       " array([[3.],\n",
       "        [7.],\n",
       "        [0.],\n",
       "        [6.]], dtype=float32)>,\n",
       " <tf.Tensor: id=32, shape=(4,), dtype=float32, numpy=array([2. , 7.4, 1. , 6.6], dtype=float32)>)"
      ]
     },
     "execution_count": 7,
     "metadata": {},
     "output_type": "execute_result"
    }
   ],
   "source": [
    "ds = tf.data.Dataset.from_tensor_slices((tf.cast(X_train, tf.float32),\n",
    "                                         tf.cast(y_train, tf.float32)))\n",
    "\n",
    "ds = ds.shuffle(buffer_size=len(y_train))\n",
    "ds = ds.batch(4)\n",
    "ds = ds.repeat()\n",
    "\n",
    "\n",
    "next(iter(ds))"
   ]
  },
  {
   "cell_type": "code",
   "execution_count": 8,
   "metadata": {},
   "outputs": [
    {
     "name": "stdout",
     "output_type": "stream",
     "text": [
      "[2.  7.4 1.  6.6]       <---->          (4, 1) (4,)\n",
      "[8.  6.3 1.3 9. ]       <---->          (4, 1) (4,)\n",
      "[3.1 5. ]       <---->          (2, 1) (2,)\n",
      "[1.  6.3 7.4 8. ]       <---->          (4, 1) (4,)\n"
     ]
    }
   ],
   "source": [
    "for b in ds.take(4):\n",
    "    print(b[1].numpy(), '      <---->         ', b[0].shape, b[1].shape)\n",
    "\n"
   ]
  },
  {
   "cell_type": "code",
   "execution_count": 9,
   "metadata": {},
   "outputs": [
    {
     "name": "stdout",
     "output_type": "stream",
     "text": [
      "[1.  6.6 8.  6.3]       <---->          (4, 1) (4,)\n",
      "[9.  3.1 2.  1.3]       <---->          (4, 1) (4,)\n",
      "[5.  7.4 6.3 6.6]       <---->          (4, 1) (4,)\n",
      "[7.4 2.  5.  1.3]       <---->          (4, 1) (4,)\n"
     ]
    }
   ],
   "source": [
    "ds = tf.data.Dataset.from_tensor_slices((tf.cast(X_train, tf.float32),\n",
    "                                         tf.cast(y_train, tf.float32)))\n",
    "ds = ds.shuffle(buffer_size=len(y_train))\n",
    "ds = ds.repeat()\n",
    "ds = ds.batch(4)\n",
    "\n",
    "for b in ds.take(4):\n",
    "    print(b[1].numpy(), '      <---->         ', b[0].shape, b[1].shape)\n"
   ]
  },
  {
   "cell_type": "markdown",
   "metadata": {},
   "source": [
    "## Define the model"
   ]
  },
  {
   "cell_type": "code",
   "execution_count": 10,
   "metadata": {},
   "outputs": [
    {
     "data": {
      "text/plain": [
       "<__main__.MyModel at 0x7f9a807c3588>"
      ]
     },
     "execution_count": 10,
     "metadata": {},
     "output_type": "execute_result"
    }
   ],
   "source": [
    "class MyModel(tf.keras.Model):\n",
    "    def __init__(self):\n",
    "        super(MyModel, self).__init__()\n",
    "        self.w = tf.Variable([0.0], name='weight')\n",
    "        self.b = tf.Variable(0.0, name='bias')\n",
    "\n",
    "    def call(self, x):\n",
    "        return self.w * x + self.b\n",
    "\n",
    "model = MyModel()\n",
    "model"
   ]
  },
  {
   "cell_type": "markdown",
   "metadata": {},
   "source": [
    "## Define the loss function"
   ]
  },
  {
   "cell_type": "code",
   "execution_count": 11,
   "metadata": {},
   "outputs": [
    {
     "data": {
      "text/plain": [
       "<tf.Tensor: id=105, shape=(), dtype=float32, numpy=0.25>"
      ]
     },
     "execution_count": 11,
     "metadata": {},
     "output_type": "execute_result"
    }
   ],
   "source": [
    "# 1. manually define MSE loss:\n",
    "\n",
    "def loss_fn(y_true, y_pred):\n",
    "    return tf.reduce_mean(tf.square(y_true - y_pred))\n",
    "\n",
    "yt = tf.convert_to_tensor([1.0])\n",
    "yp = tf.convert_to_tensor([1.5])\n",
    "\n",
    "loss_fn(yt, yp)"
   ]
  },
  {
   "cell_type": "code",
   "execution_count": 35,
   "metadata": {},
   "outputs": [
    {
     "data": {
      "text/plain": [
       "<tf.Tensor: id=1605, shape=(), dtype=float32, numpy=0.25>"
      ]
     },
     "execution_count": 35,
     "metadata": {},
     "output_type": "execute_result"
    }
   ],
   "source": [
    "# 2. using existing API\n",
    "\n",
    "loss_fn = tf.keras.losses.MSE\n",
    "\n",
    "loss_fn(yt, yp)"
   ]
  },
  {
   "cell_type": "markdown",
   "metadata": {},
   "source": [
    "## Training: method 1\n",
    "\n",
    "### Calculate gradients and update the weights manually"
   ]
  },
  {
   "cell_type": "code",
   "execution_count": 12,
   "metadata": {},
   "outputs": [],
   "source": [
    "def train(model, inputs, outputs, learning_rate):\n",
    "    with tf.GradientTape() as t:\n",
    "        current_loss = loss_fn(model(inputs), outputs)\n",
    "    dW, db = t.gradient(current_loss, [model.w, model.b])\n",
    "    model.w.assign_sub(learning_rate * dW)\n",
    "    model.b.assign_sub(learning_rate * db)\n"
   ]
  },
  {
   "cell_type": "code",
   "execution_count": 20,
   "metadata": {},
   "outputs": [
    {
     "name": "stdout",
     "output_type": "stream",
     "text": [
      "Epoch  0 Step  0 Loss 1.1411\n",
      "Epoch  0 Step 100 Loss 0.7642\n",
      "Epoch  0 Step 200 Loss 0.8105\n",
      "Epoch  0 Step 300 Loss 0.0838\n",
      "Epoch  0 Step 400 Loss 0.3697\n",
      "Epoch  0 Step 500 Loss 0.0140\n",
      "Epoch  0 Step 600 Loss 0.5075\n",
      "Epoch  0 Step 700 Loss 0.1229\n",
      "Epoch  0 Step 800 Loss 0.1176\n",
      "Epoch  0 Step 900 Loss 0.0236\n",
      "Epoch  0 Step 1000 Loss 0.0117\n",
      "Epoch  0 Step 1100 Loss 0.0066\n",
      "Epoch  0 Step 1200 Loss 0.0579\n",
      "Epoch  0 Step 1300 Loss 0.0126\n",
      "Epoch  0 Step 1400 Loss 0.3487\n",
      "Epoch  0 Step 1500 Loss 0.0295\n",
      "Epoch  0 Step 1600 Loss 0.0013\n",
      "Epoch  0 Step 1700 Loss 0.0305\n",
      "Epoch  0 Step 1800 Loss 0.0983\n",
      "Epoch  0 Step 1900 Loss 0.0018\n"
     ]
    }
   ],
   "source": [
    "model = MyModel()\n",
    "\n",
    "# Collect the history of W-values and b-values to plot later\n",
    "Ws, bs = [], []\n",
    "\n",
    "num_epochs = 200\n",
    "batch_size = 1\n",
    "log_steps = 100\n",
    "learning_rate = 0.001\n",
    "steps_per_epoch = int(np.ceil(len(y_train) / batch_size))\n",
    "\n",
    "ds_orig = tf.data.Dataset.from_tensor_slices((tf.cast(X_train_norm, tf.float32),\n",
    "                                         tf.cast(y_train_norm, tf.float32)))\n",
    "\n",
    "ds = ds_orig.shuffle(buffer_size=len(y_train))\n",
    "ds = ds.repeat()\n",
    "ds = ds.batch(batch_size)\n",
    "\n",
    "#for epoch in range(num_epochs):\n",
    "    \n",
    "    #total_loss = \n",
    "for i, batch in enumerate(ds.take(num_epochs * steps_per_epoch)):\n",
    "    Ws.append(model.w.numpy()[0])\n",
    "    bs.append(model.b.numpy())\n",
    "    #print(batch[1].numpy())\n",
    "    bx, by = batch\n",
    "    loss_val = loss_fn(model(bx), by)\n",
    "    #print(model(bx).numpy(), by.numpy())\n",
    "\n",
    "    train(model, bx, by, learning_rate=learning_rate)\n",
    "    if i%log_steps==0:\n",
    "        print('Epoch {:2d} Step {:2d} Loss {:.4f}'.format(\n",
    "            i%steps_per_epoch, i, loss_val))\n",
    "\n",
    "    \n",
    "    "
   ]
  },
  {
   "cell_type": "code",
   "execution_count": 23,
   "metadata": {},
   "outputs": [
    {
     "name": "stdout",
     "output_type": "stream",
     "text": [
      "[0.9559026] -2.7873612e-05\n"
     ]
    },
    {
     "data": {
      "image/png": "[encoded data removed]",
      "text/plain": [
       "<Figure size 936x360 with 2 Axes>"
      ]
     },
     "metadata": {
      "needs_background": "light"
     },
     "output_type": "display_data"
    }
   ],
   "source": [
    "print(model.w.numpy(), model.b.numpy())\n",
    "\n",
    "\n",
    "X_test = np.linspace(0, 9, num=100).reshape(-1, 1)\n",
    "X_train_norm = (X_train - np.mean(X_train)) / np.std(X_train)\n",
    "X_test_norm = (X_test - np.mean(X_train)) / np.std(X_train)\n",
    "\n",
    "y_pred = model(tf.cast(X_test_norm, dtype=tf.float32))\n",
    "\n",
    "\n",
    "fig = plt.figure(figsize=(13, 5))\n",
    "ax = fig.add_subplot(1, 2, 1)\n",
    "plt.plot(X_train_norm, y_train_norm, 'o', markersize=10)\n",
    "plt.plot(X_test_norm, y_pred, '--', lw=3)\n",
    "plt.legend(['Training Samples', 'Linear Reg.'], fontsize=15)\n",
    "\n",
    "ax = fig.add_subplot(1, 2, 2)\n",
    "plt.plot(Ws, lw=3)\n",
    "plt.plot(bs, lw=3)\n",
    "plt.legend(['W', 'bias'], fontsize=15)\n",
    "plt.show()"
   ]
  },
  {
   "cell_type": "code",
   "execution_count": null,
   "metadata": {},
   "outputs": [],
   "source": []
  },
  {
   "cell_type": "markdown",
   "metadata": {},
   "source": [
    "## Training: method 2\n",
    "\n",
    "### Compile the model"
   ]
  },
  {
   "cell_type": "code",
   "execution_count": 25,
   "metadata": {},
   "outputs": [],
   "source": [
    "model = MyModel()\n",
    "\n",
    "model.compile(optimizer='sgd', \n",
    "              loss=loss_fn)\n",
    "\n",
    "#model.summary()"
   ]
  },
  {
   "cell_type": "code",
   "execution_count": 26,
   "metadata": {},
   "outputs": [
    {
     "name": "stdout",
     "output_type": "stream",
     "text": [
      "tf.Tensor([0.], shape=(1,), dtype=float32)\n",
      "Model: \"my_model_4\"\n",
      "_________________________________________________________________\n",
      "Layer (type)                 Output Shape              Param #   \n",
      "=================================================================\n",
      "Total params: 2\n",
      "Trainable params: 2\n",
      "Non-trainable params: 0\n",
      "_________________________________________________________________\n"
     ]
    }
   ],
   "source": [
    "print(model([1]))\n",
    "\n",
    "model.summary()"
   ]
  },
  {
   "cell_type": "code",
   "execution_count": 27,
   "metadata": {},
   "outputs": [
    {
     "name": "stdout",
     "output_type": "stream",
     "text": [
      "Epoch 1/200\n",
      "10/10 [==============================] - 0s 17ms/step - loss: 0.9863\n",
      "Epoch 2/200\n",
      "10/10 [==============================] - 0s 2ms/step - loss: 0.9496\n",
      "Epoch 3/200\n",
      "10/10 [==============================] - 0s 2ms/step - loss: 0.9143\n",
      "Epoch 4/200\n",
      "10/10 [==============================] - 0s 1ms/step - loss: 0.8804\n",
      "Epoch 5/200\n",
      "10/10 [==============================] - 0s 1ms/step - loss: 0.8479\n",
      "Epoch 6/200\n",
      "10/10 [==============================] - 0s 1ms/step - loss: 0.8166\n",
      "Epoch 7/200\n",
      "10/10 [==============================] - 0s 1ms/step - loss: 0.7865\n",
      "Epoch 8/200\n",
      "10/10 [==============================] - 0s 1ms/step - loss: 0.7577\n",
      "Epoch 9/200\n",
      "10/10 [==============================] - 0s 1ms/step - loss: 0.7299\n",
      "Epoch 10/200\n",
      "10/10 [==============================] - 0s 1ms/step - loss: 0.7033\n",
      "Epoch 11/200\n",
      "10/10 [==============================] - 0s 1ms/step - loss: 0.6777\n",
      "Epoch 12/200\n",
      "10/10 [==============================] - 0s 1ms/step - loss: 0.6531\n",
      "Epoch 13/200\n",
      "10/10 [==============================] - 0s 1ms/step - loss: 0.6295\n",
      "Epoch 14/200\n",
      "10/10 [==============================] - 0s 1ms/step - loss: 0.6068\n",
      "Epoch 15/200\n",
      "10/10 [==============================] - 0s 1ms/step - loss: 0.5850\n",
      "Epoch 16/200\n",
      "10/10 [==============================] - 0s 1ms/step - loss: 0.5640\n",
      "Epoch 17/200\n",
      "10/10 [==============================] - 0s 1ms/step - loss: 0.5439\n",
      "Epoch 18/200\n",
      "10/10 [==============================] - 0s 1ms/step - loss: 0.5246\n",
      "Epoch 19/200\n",
      "10/10 [==============================] - 0s 994us/step - loss: 0.5060\n",
      "Epoch 20/200\n",
      "10/10 [==============================] - 0s 983us/step - loss: 0.4882\n",
      "Epoch 21/200\n",
      "10/10 [==============================] - 0s 1ms/step - loss: 0.4710\n",
      "Epoch 22/200\n",
      "10/10 [==============================] - 0s 986us/step - loss: 0.4546\n",
      "Epoch 23/200\n",
      "10/10 [==============================] - 0s 1ms/step - loss: 0.4387\n",
      "Epoch 24/200\n",
      "10/10 [==============================] - 0s 985us/step - loss: 0.4235\n",
      "Epoch 25/200\n",
      "10/10 [==============================] - 0s 1ms/step - loss: 0.4089\n",
      "Epoch 26/200\n",
      "10/10 [==============================] - 0s 1ms/step - loss: 0.3949\n",
      "Epoch 27/200\n",
      "10/10 [==============================] - 0s 1ms/step - loss: 0.3814\n",
      "Epoch 28/200\n",
      "10/10 [==============================] - 0s 997us/step - loss: 0.3685\n",
      "Epoch 29/200\n",
      "10/10 [==============================] - 0s 1ms/step - loss: 0.3561\n",
      "Epoch 30/200\n",
      "10/10 [==============================] - 0s 1ms/step - loss: 0.3441\n",
      "Epoch 31/200\n",
      "10/10 [==============================] - 0s 985us/step - loss: 0.3326\n",
      "Epoch 32/200\n",
      "10/10 [==============================] - 0s 1ms/step - loss: 0.3216\n",
      "Epoch 33/200\n",
      "10/10 [==============================] - 0s 1ms/step - loss: 0.3110\n",
      "Epoch 34/200\n",
      "10/10 [==============================] - 0s 995us/step - loss: 0.3009\n",
      "Epoch 35/200\n",
      "10/10 [==============================] - 0s 1ms/step - loss: 0.2911\n",
      "Epoch 36/200\n",
      "10/10 [==============================] - 0s 986us/step - loss: 0.2817\n",
      "Epoch 37/200\n",
      "10/10 [==============================] - 0s 1ms/step - loss: 0.2727\n",
      "Epoch 38/200\n",
      "10/10 [==============================] - 0s 1ms/step - loss: 0.2640\n",
      "Epoch 39/200\n",
      "10/10 [==============================] - 0s 1ms/step - loss: 0.2557\n",
      "Epoch 40/200\n",
      "10/10 [==============================] - 0s 1ms/step - loss: 0.2477\n",
      "Epoch 41/200\n",
      "10/10 [==============================] - 0s 1ms/step - loss: 0.2400\n",
      "Epoch 42/200\n",
      "10/10 [==============================] - 0s 995us/step - loss: 0.2326\n",
      "Epoch 43/200\n",
      "10/10 [==============================] - 0s 1ms/step - loss: 0.2255\n",
      "Epoch 44/200\n",
      "10/10 [==============================] - 0s 1ms/step - loss: 0.2187\n",
      "Epoch 45/200\n",
      "10/10 [==============================] - 0s 1ms/step - loss: 0.2122\n",
      "Epoch 46/200\n",
      "10/10 [==============================] - 0s 1ms/step - loss: 0.2059\n",
      "Epoch 47/200\n",
      "10/10 [==============================] - 0s 975us/step - loss: 0.1998\n",
      "Epoch 48/200\n",
      "10/10 [==============================] - 0s 1ms/step - loss: 0.1940\n",
      "Epoch 49/200\n",
      "10/10 [==============================] - 0s 997us/step - loss: 0.1885\n",
      "Epoch 50/200\n",
      "10/10 [==============================] - 0s 999us/step - loss: 0.1831\n",
      "Epoch 51/200\n",
      "10/10 [==============================] - 0s 1ms/step - loss: 0.1780\n",
      "Epoch 52/200\n",
      "10/10 [==============================] - 0s 991us/step - loss: 0.1730\n",
      "Epoch 53/200\n",
      "10/10 [==============================] - 0s 1ms/step - loss: 0.1683\n",
      "Epoch 54/200\n",
      "10/10 [==============================] - 0s 1ms/step - loss: 0.1637\n",
      "Epoch 55/200\n",
      "10/10 [==============================] - 0s 1ms/step - loss: 0.1593\n",
      "Epoch 56/200\n",
      "10/10 [==============================] - 0s 1ms/step - loss: 0.1551\n",
      "Epoch 57/200\n",
      "10/10 [==============================] - 0s 1ms/step - loss: 0.1511\n",
      "Epoch 58/200\n",
      "10/10 [==============================] - 0s 1ms/step - loss: 0.1472\n",
      "Epoch 59/200\n",
      "10/10 [==============================] - 0s 1ms/step - loss: 0.1434\n",
      "Epoch 60/200\n",
      "10/10 [==============================] - 0s 1ms/step - loss: 0.1399\n",
      "Epoch 61/200\n",
      "10/10 [==============================] - 0s 1ms/step - loss: 0.1364\n",
      "Epoch 62/200\n",
      "10/10 [==============================] - 0s 994us/step - loss: 0.1331\n",
      "Epoch 63/200\n",
      "10/10 [==============================] - 0s 1ms/step - loss: 0.1299\n",
      "Epoch 64/200\n",
      "10/10 [==============================] - 0s 1ms/step - loss: 0.1269\n",
      "Epoch 65/200\n",
      "10/10 [==============================] - 0s 1ms/step - loss: 0.1239\n",
      "Epoch 66/200\n",
      "10/10 [==============================] - 0s 992us/step - loss: 0.1211\n",
      "Epoch 67/200\n",
      "10/10 [==============================] - 0s 1ms/step - loss: 0.1184\n",
      "Epoch 68/200\n",
      "10/10 [==============================] - 0s 1ms/step - loss: 0.1158\n",
      "Epoch 69/200\n",
      "10/10 [==============================] - 0s 1ms/step - loss: 0.1133\n",
      "Epoch 70/200\n",
      "10/10 [==============================] - 0s 1ms/step - loss: 0.1109\n",
      "Epoch 71/200\n",
      "10/10 [==============================] - 0s 1ms/step - loss: 0.1086\n",
      "Epoch 72/200\n",
      "10/10 [==============================] - 0s 1ms/step - loss: 0.1064\n",
      "Epoch 73/200\n",
      "10/10 [==============================] - 0s 1ms/step - loss: 0.1042\n",
      "Epoch 74/200\n",
      "10/10 [==============================] - 0s 1ms/step - loss: 0.1022\n",
      "Epoch 75/200\n",
      "10/10 [==============================] - 0s 1ms/step - loss: 0.1002\n",
      "Epoch 76/200\n",
      "10/10 [==============================] - 0s 982us/step - loss: 0.0984\n",
      "Epoch 77/200\n",
      "10/10 [==============================] - 0s 1ms/step - loss: 0.0965\n",
      "Epoch 78/200\n",
      "10/10 [==============================] - 0s 1ms/step - loss: 0.0948\n",
      "Epoch 79/200\n",
      "10/10 [==============================] - 0s 1ms/step - loss: 0.0931\n",
      "Epoch 80/200\n",
      "10/10 [==============================] - 0s 1ms/step - loss: 0.0915\n",
      "Epoch 81/200\n",
      "10/10 [==============================] - 0s 994us/step - loss: 0.0900\n",
      "Epoch 82/200\n",
      "10/10 [==============================] - 0s 1ms/step - loss: 0.0885\n",
      "Epoch 83/200\n",
      "10/10 [==============================] - 0s 967us/step - loss: 0.0871\n",
      "Epoch 84/200\n",
      "10/10 [==============================] - 0s 1ms/step - loss: 0.0857\n",
      "Epoch 85/200\n",
      "10/10 [==============================] - 0s 990us/step - loss: 0.0844\n",
      "Epoch 86/200\n",
      "10/10 [==============================] - 0s 1ms/step - loss: 0.0831\n",
      "Epoch 87/200\n",
      "10/10 [==============================] - 0s 1ms/step - loss: 0.0819\n",
      "Epoch 88/200\n",
      "10/10 [==============================] - 0s 1ms/step - loss: 0.0807\n",
      "Epoch 89/200\n",
      "10/10 [==============================] - 0s 1ms/step - loss: 0.0796\n",
      "Epoch 90/200\n",
      "10/10 [==============================] - 0s 1ms/step - loss: 0.0785\n",
      "Epoch 91/200\n",
      "10/10 [==============================] - 0s 986us/step - loss: 0.0775\n",
      "Epoch 92/200\n",
      "10/10 [==============================] - 0s 1ms/step - loss: 0.0765\n",
      "Epoch 93/200\n",
      "10/10 [==============================] - 0s 1ms/step - loss: 0.0755\n",
      "Epoch 94/200\n",
      "10/10 [==============================] - 0s 1ms/step - loss: 0.0746\n",
      "Epoch 95/200\n",
      "10/10 [==============================] - 0s 977us/step - loss: 0.0737\n",
      "Epoch 96/200\n",
      "10/10 [==============================] - 0s 1ms/step - loss: 0.0729\n",
      "Epoch 97/200\n",
      "10/10 [==============================] - 0s 988us/step - loss: 0.0721\n",
      "Epoch 98/200\n",
      "10/10 [==============================] - 0s 998us/step - loss: 0.0713\n",
      "Epoch 99/200\n",
      "10/10 [==============================] - 0s 1ms/step - loss: 0.0706\n",
      "Epoch 100/200\n",
      "10/10 [==============================] - 0s 1ms/step - loss: 0.0698\n",
      "Epoch 101/200\n"
     ]
    },
    {
     "name": "stdout",
     "output_type": "stream",
     "text": [
      "10/10 [==============================] - 0s 1ms/step - loss: 0.0691\n",
      "Epoch 102/200\n",
      "10/10 [==============================] - 0s 1000us/step - loss: 0.0685\n",
      "Epoch 103/200\n",
      "10/10 [==============================] - 0s 1ms/step - loss: 0.0678\n",
      "Epoch 104/200\n",
      "10/10 [==============================] - 0s 1ms/step - loss: 0.0672\n",
      "Epoch 105/200\n",
      "10/10 [==============================] - 0s 1ms/step - loss: 0.0666\n",
      "Epoch 106/200\n",
      "10/10 [==============================] - 0s 1ms/step - loss: 0.0661\n",
      "Epoch 107/200\n",
      "10/10 [==============================] - 0s 1ms/step - loss: 0.0655\n",
      "Epoch 108/200\n",
      "10/10 [==============================] - 0s 1ms/step - loss: 0.0650\n",
      "Epoch 109/200\n",
      "10/10 [==============================] - 0s 992us/step - loss: 0.0645\n",
      "Epoch 110/200\n",
      "10/10 [==============================] - 0s 1ms/step - loss: 0.0640\n",
      "Epoch 111/200\n",
      "10/10 [==============================] - 0s 1ms/step - loss: 0.0636\n",
      "Epoch 112/200\n",
      "10/10 [==============================] - 0s 1ms/step - loss: 0.0631\n",
      "Epoch 113/200\n",
      "10/10 [==============================] - 0s 1ms/step - loss: 0.0627\n",
      "Epoch 114/200\n",
      "10/10 [==============================] - 0s 1ms/step - loss: 0.0623\n",
      "Epoch 115/200\n",
      "10/10 [==============================] - 0s 994us/step - loss: 0.0619\n",
      "Epoch 116/200\n",
      "10/10 [==============================] - 0s 1ms/step - loss: 0.0615\n",
      "Epoch 117/200\n",
      "10/10 [==============================] - 0s 1ms/step - loss: 0.0611\n",
      "Epoch 118/200\n",
      "10/10 [==============================] - 0s 1ms/step - loss: 0.0608\n",
      "Epoch 119/200\n",
      "10/10 [==============================] - 0s 1ms/step - loss: 0.0605\n",
      "Epoch 120/200\n",
      "10/10 [==============================] - 0s 1ms/step - loss: 0.0601\n",
      "Epoch 121/200\n",
      "10/10 [==============================] - 0s 1ms/step - loss: 0.0598\n",
      "Epoch 122/200\n",
      "10/10 [==============================] - 0s 993us/step - loss: 0.0595\n",
      "Epoch 123/200\n",
      "10/10 [==============================] - 0s 1ms/step - loss: 0.0592\n",
      "Epoch 124/200\n",
      "10/10 [==============================] - 0s 986us/step - loss: 0.0590\n",
      "Epoch 125/200\n",
      "10/10 [==============================] - 0s 1ms/step - loss: 0.0587\n",
      "Epoch 126/200\n",
      "10/10 [==============================] - 0s 1ms/step - loss: 0.0584\n",
      "Epoch 127/200\n",
      "10/10 [==============================] - 0s 993us/step - loss: 0.0582\n",
      "Epoch 128/200\n",
      "10/10 [==============================] - 0s 981us/step - loss: 0.0580\n",
      "Epoch 129/200\n",
      "10/10 [==============================] - 0s 1ms/step - loss: 0.0577\n",
      "Epoch 130/200\n",
      "10/10 [==============================] - 0s 987us/step - loss: 0.0575\n",
      "Epoch 131/200\n",
      "10/10 [==============================] - 0s 1ms/step - loss: 0.0573\n",
      "Epoch 132/200\n",
      "10/10 [==============================] - 0s 1ms/step - loss: 0.0571\n",
      "Epoch 133/200\n",
      "10/10 [==============================] - 0s 988us/step - loss: 0.0569\n",
      "Epoch 134/200\n",
      "10/10 [==============================] - 0s 1ms/step - loss: 0.0567\n",
      "Epoch 135/200\n",
      "10/10 [==============================] - 0s 994us/step - loss: 0.0566\n",
      "Epoch 136/200\n",
      "10/10 [==============================] - 0s 996us/step - loss: 0.0564\n",
      "Epoch 137/200\n",
      "10/10 [==============================] - 0s 1ms/step - loss: 0.0562\n",
      "Epoch 138/200\n",
      "10/10 [==============================] - 0s 1ms/step - loss: 0.0561\n",
      "Epoch 139/200\n",
      "10/10 [==============================] - 0s 1ms/step - loss: 0.0559\n",
      "Epoch 140/200\n",
      "10/10 [==============================] - 0s 1ms/step - loss: 0.0558\n",
      "Epoch 141/200\n",
      "10/10 [==============================] - 0s 999us/step - loss: 0.0556\n",
      "Epoch 142/200\n",
      "10/10 [==============================] - 0s 1ms/step - loss: 0.0555\n",
      "Epoch 143/200\n",
      "10/10 [==============================] - 0s 1ms/step - loss: 0.0554\n",
      "Epoch 144/200\n",
      "10/10 [==============================] - 0s 1ms/step - loss: 0.0553\n",
      "Epoch 145/200\n",
      "10/10 [==============================] - 0s 1ms/step - loss: 0.0551\n",
      "Epoch 146/200\n",
      "10/10 [==============================] - 0s 1ms/step - loss: 0.0550\n",
      "Epoch 147/200\n",
      "10/10 [==============================] - 0s 1ms/step - loss: 0.0549\n",
      "Epoch 148/200\n",
      "10/10 [==============================] - 0s 1ms/step - loss: 0.0548\n",
      "Epoch 149/200\n",
      "10/10 [==============================] - 0s 1ms/step - loss: 0.0547\n",
      "Epoch 150/200\n",
      "10/10 [==============================] - 0s 992us/step - loss: 0.0546\n",
      "Epoch 151/200\n",
      "10/10 [==============================] - 0s 1ms/step - loss: 0.0545\n",
      "Epoch 152/200\n",
      "10/10 [==============================] - 0s 1ms/step - loss: 0.0544\n",
      "Epoch 153/200\n",
      "10/10 [==============================] - 0s 989us/step - loss: 0.0543\n",
      "Epoch 154/200\n",
      "10/10 [==============================] - 0s 993us/step - loss: 0.0543\n",
      "Epoch 155/200\n",
      "10/10 [==============================] - 0s 1ms/step - loss: 0.0542\n",
      "Epoch 156/200\n",
      "10/10 [==============================] - 0s 989us/step - loss: 0.0541\n",
      "Epoch 157/200\n",
      "10/10 [==============================] - 0s 996us/step - loss: 0.0540\n",
      "Epoch 158/200\n",
      "10/10 [==============================] - 0s 1ms/step - loss: 0.0540\n",
      "Epoch 159/200\n",
      "10/10 [==============================] - 0s 989us/step - loss: 0.0539\n",
      "Epoch 160/200\n",
      "10/10 [==============================] - 0s 986us/step - loss: 0.0538\n",
      "Epoch 161/200\n",
      "10/10 [==============================] - 0s 1ms/step - loss: 0.0538\n",
      "Epoch 162/200\n",
      "10/10 [==============================] - 0s 996us/step - loss: 0.0537\n",
      "Epoch 163/200\n",
      "10/10 [==============================] - 0s 1ms/step - loss: 0.0536\n",
      "Epoch 164/200\n",
      "10/10 [==============================] - 0s 1ms/step - loss: 0.0536\n",
      "Epoch 165/200\n",
      "10/10 [==============================] - 0s 1ms/step - loss: 0.0535\n",
      "Epoch 166/200\n",
      "10/10 [==============================] - 0s 1ms/step - loss: 0.0535\n",
      "Epoch 167/200\n",
      "10/10 [==============================] - 0s 980us/step - loss: 0.0534\n",
      "Epoch 168/200\n",
      "10/10 [==============================] - 0s 1ms/step - loss: 0.0534\n",
      "Epoch 169/200\n",
      "10/10 [==============================] - 0s 1ms/step - loss: 0.0533\n",
      "Epoch 170/200\n",
      "10/10 [==============================] - 0s 999us/step - loss: 0.0533\n",
      "Epoch 171/200\n",
      "10/10 [==============================] - 0s 1ms/step - loss: 0.0533\n",
      "Epoch 172/200\n",
      "10/10 [==============================] - 0s 1ms/step - loss: 0.0532\n",
      "Epoch 173/200\n",
      "10/10 [==============================] - 0s 992us/step - loss: 0.0532\n",
      "Epoch 174/200\n",
      "10/10 [==============================] - 0s 993us/step - loss: 0.0531\n",
      "Epoch 175/200\n",
      "10/10 [==============================] - 0s 1ms/step - loss: 0.0531\n",
      "Epoch 176/200\n",
      "10/10 [==============================] - 0s 1ms/step - loss: 0.0531\n",
      "Epoch 177/200\n",
      "10/10 [==============================] - 0s 1ms/step - loss: 0.0530\n",
      "Epoch 178/200\n",
      "10/10 [==============================] - 0s 1ms/step - loss: 0.0530\n",
      "Epoch 179/200\n",
      "10/10 [==============================] - 0s 1ms/step - loss: 0.0530\n",
      "Epoch 180/200\n",
      "10/10 [==============================] - 0s 1ms/step - loss: 0.0530\n",
      "Epoch 181/200\n",
      "10/10 [==============================] - 0s 1ms/step - loss: 0.0529\n",
      "Epoch 182/200\n",
      "10/10 [==============================] - 0s 1ms/step - loss: 0.0529\n",
      "Epoch 183/200\n",
      "10/10 [==============================] - 0s 1ms/step - loss: 0.0529\n",
      "Epoch 184/200\n",
      "10/10 [==============================] - 0s 992us/step - loss: 0.0528\n",
      "Epoch 185/200\n",
      "10/10 [==============================] - 0s 1ms/step - loss: 0.0528\n",
      "Epoch 186/200\n",
      "10/10 [==============================] - 0s 995us/step - loss: 0.0528\n",
      "Epoch 187/200\n",
      "10/10 [==============================] - 0s 1ms/step - loss: 0.0528\n",
      "Epoch 188/200\n",
      "10/10 [==============================] - 0s 987us/step - loss: 0.0528\n",
      "Epoch 189/200\n",
      "10/10 [==============================] - 0s 1ms/step - loss: 0.0527\n",
      "Epoch 190/200\n",
      "10/10 [==============================] - 0s 983us/step - loss: 0.0527\n",
      "Epoch 191/200\n",
      "10/10 [==============================] - 0s 962us/step - loss: 0.0527\n",
      "Epoch 192/200\n",
      "10/10 [==============================] - 0s 1ms/step - loss: 0.0527\n",
      "Epoch 193/200\n",
      "10/10 [==============================] - 0s 1ms/step - loss: 0.0527\n",
      "Epoch 194/200\n",
      "10/10 [==============================] - 0s 1ms/step - loss: 0.0526\n",
      "Epoch 195/200\n",
      "10/10 [==============================] - 0s 1ms/step - loss: 0.0526\n",
      "Epoch 196/200\n",
      "10/10 [==============================] - 0s 993us/step - loss: 0.0526\n",
      "Epoch 197/200\n",
      "10/10 [==============================] - 0s 1ms/step - loss: 0.0526\n",
      "Epoch 198/200\n",
      "10/10 [==============================] - 0s 1ms/step - loss: 0.0526\n",
      "Epoch 199/200\n",
      "10/10 [==============================] - 0s 953us/step - loss: 0.0526\n",
      "Epoch 200/200\n"
     ]
    },
    {
     "name": "stdout",
     "output_type": "stream",
     "text": [
      " 1/10 [==>...........................] - ETA: 0s - loss: 0.0056\b\b\b\b\b\b\b\b\b\b\b\b\b\b\b\b\b\b\b\b\b\b\b\b\b\b\b\b\b\b\b\b\b\b\b\b\b\b\b\b\b\b\b\b\b\b\b\b\b\b\b\b\b\b\b\b\b\b\b\b\b\b\b\r",
      "10/10 [==============================] - 0s 1ms/step - loss: 0.0526\n"
     ]
    },
    {
     "data": {
      "text/plain": [
       "<tensorflow.python.keras.callbacks.History at 0x7f9a8020a518>"
      ]
     },
     "execution_count": 27,
     "metadata": {},
     "output_type": "execute_result"
    }
   ],
   "source": [
    "ds_orig = tf.data.Dataset.from_tensor_slices((tf.cast(X_train_norm, tf.float32),\n",
    "                                         tf.cast(y_train_norm, tf.float32)))\n",
    "\n",
    "num_epochs = 200\n",
    "batch_size = 1\n",
    "\n",
    "ds = ds_orig.shuffle(buffer_size=len(y_train))\n",
    "ds = ds.repeat()\n",
    "ds = ds.batch(batch_size=batch_size)\n",
    "\n",
    "steps_per_epoch = int(np.ceil(len(X_train) / batch_size))\n",
    "\n",
    "model.fit(ds, epochs=num_epochs, \n",
    "          steps_per_epoch=steps_per_epoch)\n"
   ]
  },
  {
   "cell_type": "code",
   "execution_count": 29,
   "metadata": {},
   "outputs": [
    {
     "name": "stdout",
     "output_type": "stream",
     "text": [
      "[0.9559419] 1.6738632e-05\n"
     ]
    },
    {
     "data": {
      "image/png": "[encoded data removed]",
      "text/plain": [
       "<Figure size 432x288 with 1 Axes>"
      ]
     },
     "metadata": {
      "needs_background": "light"
     },
     "output_type": "display_data"
    }
   ],
   "source": [
    "print(model.w.numpy(), model.b.numpy())\n",
    "\n",
    "\n",
    "X_test = np.linspace(0, 9, num=100).reshape(-1, 1)\n",
    "X_test_norm = (X_test - np.mean(X_train)) / np.std(X_train)\n",
    "\n",
    "y_pred = model(tf.cast(X_test_norm, dtype=tf.float32))\n",
    "\n",
    "\n",
    "plt.plot(X_train_norm, y_train_norm, 'o', markersize=10)\n",
    "plt.plot(X_test_norm, y_pred, '--', lw=3)\n",
    "plt.legend(['Training Samples', 'Linear Reg.'], fontsize=15)\n",
    "\n",
    "plt.show()"
   ]
  },
  {
   "cell_type": "code",
   "execution_count": null,
   "metadata": {},
   "outputs": [],
   "source": []
  }
 ],
 "metadata": {
  "kernelspec": {
   "display_name": "Python 3",
   "language": "python",
   "name": "python3"
  },
  "language_info": {
   "codemirror_mode": {
    "name": "ipython",
    "version": 3
   },
   "file_extension": ".py",
   "mimetype": "text/x-python",
   "name": "python",
   "nbconvert_exporter": "python",
   "pygments_lexer": "ipython3",
   "version": "3.6.8"
  }
 },
 "nbformat": 4,
 "nbformat_minor": 2
}
