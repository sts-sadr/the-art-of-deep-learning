{
 "cells": [
  {
   "cell_type": "code",
   "execution_count": 1,
   "metadata": {},
   "outputs": [],
   "source": [
    "import tensorflow as tf\n",
    "import tensorflow_datasets as tfds\n",
    "\n",
    "import numpy as np\n",
    "\n",
    "import matplotlib.pyplot as plt\n",
    "%matplotlib inline"
   ]
  },
  {
   "cell_type": "markdown",
   "metadata": {},
   "source": [
    "## Setup the dataset"
   ]
  },
  {
   "cell_type": "code",
   "execution_count": 33,
   "metadata": {},
   "outputs": [
    {
     "name": "stdout",
     "output_type": "stream",
     "text": [
      "<class 'tuple'>\n"
     ]
    },
    {
     "data": {
      "image/png": "[encoded data removed]",
      "text/plain": [
       "<Figure size 864x432 with 32 Axes>"
      ]
     },
     "metadata": {},
     "output_type": "display_data"
    }
   ],
   "source": [
    "mnist_dataset = tfds.load('mnist')\n",
    "\n",
    "ds_train = mnist_dataset['train']\n",
    "ds_test = mnist_dataset['test']\n",
    "\n",
    "ds_train = ds_train.map(lambda x: (tf.cast(x['image'], dtype=tf.float64)/255.0, \n",
    "                                   tf.cast(x['image'], dtype=tf.float64)/255.0))\n",
    "\n",
    "batch_size = 32\n",
    "ds_train = ds_train.shuffle(buffer_size=10000)\n",
    "ds_train = ds_train.batch(batch_size=batch_size)\n",
    "ds_train = ds_train.repeat()\n",
    "\n",
    "\n",
    "\n",
    "fig = plt.figure(figsize=(12, 6))\n",
    "\n",
    "\n",
    "batch, = ds_train.take(1)\n",
    "print(type(batch))\n",
    "\n",
    "for i,example in enumerate(zip(batch[0], batch[1])):\n",
    "    ax = fig.add_subplot(4, 8, i+1)\n",
    "    ax.set_xticks([]); ax.set_yticks([])\n",
    "    image = example[0]\n",
    "    ax.imshow(image[:, :, 0], cmap='gray_r')\n",
    "    \n",
    "plt.show()"
   ]
  },
  {
   "cell_type": "code",
   "execution_count": null,
   "metadata": {},
   "outputs": [],
   "source": []
  },
  {
   "cell_type": "markdown",
   "metadata": {},
   "source": [
    "## Build the model"
   ]
  },
  {
   "cell_type": "code",
   "execution_count": 65,
   "metadata": {},
   "outputs": [
    {
     "name": "stdout",
     "output_type": "stream",
     "text": [
      "Model: \"sequential_19\"\n",
      "_________________________________________________________________\n",
      "Layer (type)                 Output Shape              Param #   \n",
      "=================================================================\n",
      "flatten_9 (Flatten)          (None, 784)               0         \n",
      "_________________________________________________________________\n",
      "dense_18 (Dense)             (None, 100)               78400     \n",
      "_________________________________________________________________\n",
      "dense_19 (Dense)             (None, 784)               78400     \n",
      "_________________________________________________________________\n",
      "reshape_8 (Reshape)          (None, 28, 28, 1)         0         \n",
      "=================================================================\n",
      "Total params: 156,800\n",
      "Trainable params: 156,800\n",
      "Non-trainable params: 0\n",
      "_________________________________________________________________\n"
     ]
    }
   ],
   "source": [
    "encoder = tf.keras.layers.Dense(units=100, use_bias=False, activation='relu')\n",
    "\n",
    "decoder = tf.keras.layers.Dense(units=784, use_bias=False, activation='linear')\n",
    "\n",
    "model = tf.keras.Sequential([\n",
    "    tf.keras.layers.Flatten(input_shape=(28, 28, 1)),\n",
    "    encoder,\n",
    "    decoder,\n",
    "    tf.keras.layers.Reshape(target_shape=(28, 28, 1))\n",
    "])\n",
    "\n",
    "model.summary()"
   ]
  },
  {
   "cell_type": "code",
   "execution_count": 4,
   "metadata": {},
   "outputs": [
    {
     "data": {
      "text/plain": [
       "<tf.Tensor: id=734, shape=(32, 100), dtype=float32, numpy=\n",
       "array([[0.        , 0.        , 1.0434357 , ..., 0.        , 0.        ,\n",
       "        0.        ],\n",
       "       [0.3676796 , 0.        , 0.        , ..., 0.        , 0.29831785,\n",
       "        1.2031038 ],\n",
       "       [0.        , 0.        , 0.6790781 , ..., 0.        , 0.54919434,\n",
       "        0.01594645],\n",
       "       ...,\n",
       "       [0.15293549, 0.        , 0.22674006, ..., 0.        , 0.34405476,\n",
       "        0.07251866],\n",
       "       [0.6334442 , 0.        , 0.        , ..., 0.        , 0.        ,\n",
       "        0.07137775],\n",
       "       [0.2549927 , 0.        , 0.23071766, ..., 0.        , 0.3171379 ,\n",
       "        0.        ]], dtype=float32)>"
      ]
     },
     "execution_count": 4,
     "metadata": {},
     "output_type": "execute_result"
    }
   ],
   "source": [
    "encoder(tf.reshape(batch[0], (32, -1)))"
   ]
  },
  {
   "cell_type": "code",
   "execution_count": 67,
   "metadata": {},
   "outputs": [
    {
     "name": "stdout",
     "output_type": "stream",
     "text": [
      "Model: \"sequential_22\"\n",
      "_________________________________________________________________\n",
      "Layer (type)                 Output Shape              Param #   \n",
      "=================================================================\n",
      "sequential_20 (Sequential)   (None, 100)               78400     \n",
      "_________________________________________________________________\n",
      "sequential_21 (Sequential)   (None, 28, 28, 1)         78400     \n",
      "=================================================================\n",
      "Total params: 156,800\n",
      "Trainable params: 156,800\n",
      "Non-trainable params: 0\n",
      "_________________________________________________________________\n"
     ]
    }
   ],
   "source": [
    "def build_model():\n",
    "    encoder = tf.keras.Sequential([\n",
    "        tf.keras.layers.Flatten(input_shape=(28, 28, 1)),\n",
    "        tf.keras.layers.Dense(units=100, use_bias=False, activation='relu')\n",
    "    ])\n",
    "\n",
    "    decoder = tf.keras.Sequential([\n",
    "        tf.keras.layers.Dense(units=784, use_bias=False, activation='sigmoid'),\n",
    "        tf.keras.layers.Reshape(target_shape=(28, 28, 1))\n",
    "    ])\n",
    "\n",
    "    model = tf.keras.Sequential([\n",
    "        encoder,\n",
    "        decoder,\n",
    "    ])\n",
    "    \n",
    "    return model\n",
    "\n",
    "model = build_model()\n",
    "model.summary()"
   ]
  },
  {
   "cell_type": "code",
   "execution_count": 28,
   "metadata": {},
   "outputs": [
    {
     "data": {
      "text/plain": [
       "<tf.Tensor: id=2073, shape=(32, 100), dtype=float32, numpy=\n",
       "array([[0.15210739, 0.17888433, 0.03488563, ..., 0.        , 0.        ,\n",
       "        0.19619474],\n",
       "       [0.18215793, 0.22259258, 0.25006247, ..., 0.        , 0.        ,\n",
       "        0.5323311 ],\n",
       "       [0.19661996, 0.        , 0.6642134 , ..., 0.5456214 , 0.        ,\n",
       "        0.39564973],\n",
       "       ...,\n",
       "       [0.19417731, 0.58385414, 0.04191582, ..., 0.15627345, 0.        ,\n",
       "        0.        ],\n",
       "       [0.19163123, 0.0110858 , 0.14028296, ..., 0.08671395, 0.2738879 ,\n",
       "        0.51662916],\n",
       "       [0.        , 0.17412499, 0.        , ..., 0.39051226, 0.        ,\n",
       "        0.27791464]], dtype=float32)>"
      ]
     },
     "execution_count": 28,
     "metadata": {},
     "output_type": "execute_result"
    }
   ],
   "source": [
    "encoder(batch[0])"
   ]
  },
  {
   "cell_type": "code",
   "execution_count": 30,
   "metadata": {},
   "outputs": [
    {
     "data": {
      "text/plain": [
       "TensorShape([32, 28, 28, 1])"
      ]
     },
     "execution_count": 30,
     "metadata": {},
     "output_type": "execute_result"
    }
   ],
   "source": [
    "model(batch[0]).shape"
   ]
  },
  {
   "cell_type": "markdown",
   "metadata": {},
   "source": [
    "## Compile"
   ]
  },
  {
   "cell_type": "code",
   "execution_count": 60,
   "metadata": {},
   "outputs": [],
   "source": [
    "model.compile(loss='mse',\n",
    "              optimizer=tf.keras.optimizers.RMSprop(0.001),\n",
    "              metrics=['mae', 'mse'])"
   ]
  },
  {
   "cell_type": "code",
   "execution_count": 61,
   "metadata": {},
   "outputs": [
    {
     "name": "stdout",
     "output_type": "stream",
     "text": [
      "Epoch 1/5\n",
      "1563/1563 [==============================] - 14s 9ms/step - loss: 0.0197 - mae: 0.0618 - mse: 0.0197\n",
      "Epoch 2/5\n",
      "1563/1563 [==============================] - 12s 8ms/step - loss: 0.0076 - mae: 0.0321 - mse: 0.0076\n",
      "Epoch 3/5\n",
      "1563/1563 [==============================] - 12s 8ms/step - loss: 0.0058 - mae: 0.0269 - mse: 0.0058\n",
      "Epoch 4/5\n",
      "1563/1563 [==============================] - 12s 8ms/step - loss: 0.0051 - mae: 0.0246 - mse: 0.0051\n",
      "Epoch 5/5\n",
      "1563/1563 [==============================] - 13s 8ms/step - loss: 0.0047 - mae: 0.0234 - mse: 0.0047\n"
     ]
    }
   ],
   "source": [
    "steps_per_epoch = np.ceil(50000 / batch_size)\n",
    "\n",
    "history = model.fit(ds_train, epochs=5, steps_per_epoch=steps_per_epoch)"
   ]
  },
  {
   "cell_type": "code",
   "execution_count": 56,
   "metadata": {},
   "outputs": [
    {
     "data": {
      "text/plain": [
       "{'loss': [0.01919132571545878,\n",
       "  0.007092646100592305,\n",
       "  0.0053970400440332056,\n",
       "  0.004662511775374975,\n",
       "  0.0042391443072138345],\n",
       " 'mae': [0.06096928, 0.031197969, 0.026148649, 0.023910373, 0.022605013],\n",
       " 'mse': [0.019191323, 0.0070926514, 0.0053970404, 0.004662511, 0.004239142]}"
      ]
     },
     "execution_count": 56,
     "metadata": {},
     "output_type": "execute_result"
    }
   ],
   "source": [
    "history.history"
   ]
  },
  {
   "cell_type": "markdown",
   "metadata": {},
   "source": [
    "## Reconstruct some test images"
   ]
  },
  {
   "cell_type": "code",
   "execution_count": 62,
   "metadata": {},
   "outputs": [
    {
     "name": "stdout",
     "output_type": "stream",
     "text": [
      "<class 'tensorflow.python.framework.ops.EagerTensor'> (10, 28, 28, 1)\n"
     ]
    },
    {
     "data": {
      "image/png": "[encoded data removed]",
      "text/plain": [
       "<Figure size 1440x288 with 20 Axes>"
      ]
     },
     "metadata": {},
     "output_type": "display_data"
    }
   ],
   "source": [
    "ds_test = mnist_dataset['test']\n",
    "\n",
    "ds_test = ds_test.map(lambda x: tf.cast(x['image'], dtype=tf.float64)/255.0)\n",
    "\n",
    "ds_test = ds_test.batch(batch_size=10)\n",
    "\n",
    "\n",
    "fig = plt.figure(figsize=(20, 4))\n",
    "\n",
    "\n",
    "batch_test, = ds_test.take(1)\n",
    "print(type(batch_test), batch_test.shape)\n",
    "\n",
    "batch_test_rec = model.predict(batch_test)\n",
    "\n",
    "for i, (img_orig, img_rec) in enumerate(zip(batch_test, batch_test_rec)):\n",
    "    ax = fig.add_subplot(2, 10, i+1)\n",
    "    ax.set_xticks([]); ax.set_yticks([])\n",
    "    #image = example[:, :, 0]\n",
    "    ax.imshow(img_orig[:, :, 0], cmap='gray_r')\n",
    "\n",
    "    ax = fig.add_subplot(2, 10, i+11)\n",
    "    ax.set_xticks([]); ax.set_yticks([])\n",
    "    #image = example[:, :, 0]\n",
    "    ax.imshow(img_rec[:, :, 0], cmap='gray_r')\n",
    "\n",
    "plt.show()"
   ]
  },
  {
   "cell_type": "markdown",
   "metadata": {},
   "source": [
    "## Save the model"
   ]
  },
  {
   "cell_type": "code",
   "execution_count": 58,
   "metadata": {},
   "outputs": [],
   "source": [
    "json_config = model.to_json()\n",
    "\n",
    "with open('mnist-ae.json', 'w') as json_file:\n",
    "    json_file.write(json_config)\n",
    "    \n",
    "model.save_weights('mnist-ae.h5', save_format='h5')"
   ]
  },
  {
   "cell_type": "markdown",
   "metadata": {},
   "source": [
    "## Other loss functions"
   ]
  },
  {
   "cell_type": "markdown",
   "metadata": {},
   "source": [
    "### User-defined example"
   ]
  },
  {
   "cell_type": "code",
   "execution_count": 68,
   "metadata": {},
   "outputs": [
    {
     "name": "stdout",
     "output_type": "stream",
     "text": [
      "(32, 28, 28, 1) (32, 28, 28, 1)\n"
     ]
    },
    {
     "data": {
      "text/plain": [
       "<tf.Tensor: id=350680, shape=(), dtype=float32, numpy=0.23282787>"
      ]
     },
     "execution_count": 68,
     "metadata": {},
     "output_type": "execute_result"
    }
   ],
   "source": [
    "## user-defined loss: defining the MSE loss\n",
    "\n",
    "class MeanSquaredError(tf.keras.losses.Loss):\n",
    "    def call(self, y_true, y_pred):\n",
    "        y_pred = tf.convert_to_tensor(y_pred)\n",
    "        y_true = tf.cast(y_true, y_pred.dtype)\n",
    "        return tf.math.reduce_sum(tf.math.square(y_true - y_pred), \n",
    "                                  axis=-1, keepdims=False)\n",
    "\n",
    "## try:    \n",
    "\n",
    "model = build_model()\n",
    "\n",
    "b_inp = batch[0]\n",
    "b_rec = model(b_inp)\n",
    "\n",
    "\n",
    "print(b_inp.shape, b_rec.shape)\n",
    "mse_loss = MeanSquaredError()\n",
    "mse_loss(y_true=b_inp, y_pred=b_rec)"
   ]
  },
  {
   "cell_type": "code",
   "execution_count": 71,
   "metadata": {},
   "outputs": [
    {
     "name": "stdout",
     "output_type": "stream",
     "text": [
      "\n",
      "Epoch 1/5\n",
      "1563/1563 [==============================] - 14s 9ms/step - loss: 0.0196 - mae: 0.0615 - mse: 0.0196\n",
      "Epoch 2/5\n",
      "1563/1563 [==============================] - 13s 8ms/step - loss: 0.0075 - mae: 0.0321 - mse: 0.0075\n",
      "Epoch 3/5\n",
      "1563/1563 [==============================] - 12s 8ms/step - loss: 0.0058 - mae: 0.0269 - mse: 0.0058\n",
      "Epoch 4/5\n",
      "1563/1563 [==============================] - 13s 8ms/step - loss: 0.0051 - mae: 0.0247 - mse: 0.0051\n",
      "Epoch 5/5\n",
      "1563/1563 [==============================] - 12s 8ms/step - loss: 0.0047 - mae: 0.0234 - mse: 0.0047\n",
      "\n"
     ]
    },
    {
     "data": {
      "image/png": "[encoded data removed]",
      "text/plain": [
       "<Figure size 1440x288 with 20 Axes>"
      ]
     },
     "metadata": {},
     "output_type": "display_data"
    }
   ],
   "source": [
    "model = build_model()\n",
    "\n",
    "model.compile(loss=MeanSquaredError(),\n",
    "              optimizer=tf.keras.optimizers.RMSprop(0.001),\n",
    "              metrics=['mae', 'mse'])\n",
    "\n",
    "steps_per_epoch = np.ceil(50000 / batch_size)\n",
    "\n",
    "history = model.fit(ds_train, epochs=5, steps_per_epoch=steps_per_epoch)\n",
    "\n",
    "\n",
    "fig = plt.figure(figsize=(20, 4))\n",
    "\n",
    "\n",
    "#batch_test, = ds_test.take(1)\n",
    "#print(type(batch_test), batch_test.shape)\n",
    "\n",
    "batch_test_rec = model.predict(batch_test)\n",
    "\n",
    "for i, (img_orig, img_rec) in enumerate(zip(batch_test, batch_test_rec)):\n",
    "    ax = fig.add_subplot(2, 10, i+1)\n",
    "    ax.set_xticks([]); ax.set_yticks([])\n",
    "    #image = example[:, :, 0]\n",
    "    ax.imshow(img_orig[:, :, 0], cmap='gray_r')\n",
    "\n",
    "    ax = fig.add_subplot(2, 10, i+11)\n",
    "    ax.set_xticks([]); ax.set_yticks([])\n",
    "    #image = example[:, :, 0]\n",
    "    ax.imshow(img_rec[:, :, 0], cmap='gray_r')\n",
    "\n",
    "plt.show()"
   ]
  },
  {
   "cell_type": "markdown",
   "metadata": {},
   "source": [
    "### BCE-loss"
   ]
  },
  {
   "cell_type": "code",
   "execution_count": 73,
   "metadata": {},
   "outputs": [
    {
     "name": "stdout",
     "output_type": "stream",
     "text": [
      "(32, 28, 28, 1) (32, 28, 28, 1)\n"
     ]
    },
    {
     "data": {
      "text/plain": [
       "<tf.Tensor: id=437587, shape=(), dtype=float32, numpy=0.69482976>"
      ]
     },
     "execution_count": 73,
     "metadata": {},
     "output_type": "execute_result"
    }
   ],
   "source": [
    "bce_loss = tf.keras.losses.BinaryCrossentropy()\n",
    "\n",
    "## try:    \n",
    "\n",
    "model = build_model()\n",
    "\n",
    "b_inp = batch[0]\n",
    "b_rec = model(b_inp)\n",
    "\n",
    "\n",
    "print(b_inp.shape, b_rec.shape)\n",
    "bce_loss(y_true=b_inp, y_pred=b_rec)"
   ]
  },
  {
   "cell_type": "code",
   "execution_count": 75,
   "metadata": {},
   "outputs": [
    {
     "name": "stdout",
     "output_type": "stream",
     "text": [
      "Epoch 1/5\n",
      "1563/1563 [==============================] - 16s 10ms/step - loss: 0.1254 - mae: 0.0587 - mse: 0.0199\n",
      "Epoch 2/5\n",
      "1563/1563 [==============================] - 14s 9ms/step - loss: 0.0862 - mae: 0.0294 - mse: 0.0076\n",
      "Epoch 3/5\n",
      "1563/1563 [==============================] - 14s 9ms/step - loss: 0.0805 - mae: 0.0248 - mse: 0.0059\n",
      "Epoch 4/5\n",
      "1563/1563 [==============================] - 14s 9ms/step - loss: 0.0782 - mae: 0.0229 - mse: 0.0052\n",
      "Epoch 5/5\n",
      "1563/1563 [==============================] - 14s 9ms/step - loss: 0.0769 - mae: 0.0218 - mse: 0.0048\n"
     ]
    },
    {
     "data": {
      "image/png": "[encoded data removed]",
      "text/plain": [
       "<Figure size 1440x288 with 20 Axes>"
      ]
     },
     "metadata": {},
     "output_type": "display_data"
    }
   ],
   "source": [
    "model = build_model()\n",
    "\n",
    "model.compile(loss=tf.keras.losses.BinaryCrossentropy(),\n",
    "              optimizer=tf.keras.optimizers.RMSprop(0.001),\n",
    "              metrics=['mae', 'mse'])\n",
    "\n",
    "steps_per_epoch = np.ceil(50000 / batch_size)\n",
    "\n",
    "history = model.fit(ds_train, epochs=5, steps_per_epoch=steps_per_epoch)\n",
    "\n",
    "\n",
    "fig = plt.figure(figsize=(20, 4))\n",
    "\n",
    "\n",
    "#batch_test, = ds_test.take(1)\n",
    "#print(type(batch_test), batch_test.shape)\n",
    "\n",
    "batch_test_rec = model.predict(batch_test)\n",
    "\n",
    "for i, (img_orig, img_rec) in enumerate(zip(batch_test, batch_test_rec)):\n",
    "    ax = fig.add_subplot(2, 10, i+1)\n",
    "    ax.set_xticks([]); ax.set_yticks([])\n",
    "    ax.imshow(img_orig[:, :, 0], cmap='gray_r')\n",
    "\n",
    "    ax = fig.add_subplot(2, 10, i+11)\n",
    "    ax.set_xticks([]); ax.set_yticks([])\n",
    "    ax.imshow(img_rec[:, :, 0], cmap='gray_r')\n",
    "\n",
    "plt.show()"
   ]
  },
  {
   "cell_type": "code",
   "execution_count": null,
   "metadata": {},
   "outputs": [],
   "source": []
  },
  {
   "cell_type": "code",
   "execution_count": null,
   "metadata": {},
   "outputs": [],
   "source": []
  }
 ],
 "metadata": {
  "kernelspec": {
   "display_name": "Python 3",
   "language": "python",
   "name": "python3"
  },
  "language_info": {
   "codemirror_mode": {
    "name": "ipython",
    "version": 3
   },
   "file_extension": ".py",
   "mimetype": "text/x-python",
   "name": "python",
   "nbconvert_exporter": "python",
   "pygments_lexer": "ipython3",
   "version": "3.6.8"
  }
 },
 "nbformat": 4,
 "nbformat_minor": 2
}
