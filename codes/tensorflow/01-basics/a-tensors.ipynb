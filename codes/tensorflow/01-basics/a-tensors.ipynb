{
 "cells": [
  {
   "cell_type": "markdown",
   "metadata": {},
   "source": [
    "Represents one of the outputs of an Operation."
   ]
  },
  {
   "cell_type": "code",
   "execution_count": 1,
   "metadata": {},
   "outputs": [],
   "source": [
    "import tensorflow as tf\n",
    "import numpy as np"
   ]
  },
  {
   "cell_type": "markdown",
   "metadata": {},
   "source": [
    "## Numpy <-> Tensor"
   ]
  },
  {
   "cell_type": "code",
   "execution_count": 2,
   "metadata": {},
   "outputs": [
    {
     "data": {
      "text/plain": [
       "<tf.Tensor: id=0, shape=(3,), dtype=int32, numpy=array([1, 2, 3], dtype=int32)>"
      ]
     },
     "execution_count": 2,
     "metadata": {},
     "output_type": "execute_result"
    }
   ],
   "source": [
    "np_arr = np.array([1, 2, 3], dtype=np.int32)\n",
    "\n",
    "tf.convert_to_tensor(np_arr)"
   ]
  },
  {
   "cell_type": "code",
   "execution_count": 3,
   "metadata": {},
   "outputs": [
    {
     "data": {
      "text/plain": [
       "array([[0.32156897],\n",
       "       [0.617237  ],\n",
       "       [0.13312566]], dtype=float32)"
      ]
     },
     "execution_count": 3,
     "metadata": {},
     "output_type": "execute_result"
    }
   ],
   "source": [
    "t = tf.random.uniform((3, 1))\n",
    "\n",
    "t.numpy()"
   ]
  },
  {
   "cell_type": "code",
   "execution_count": 4,
   "metadata": {},
   "outputs": [
    {
     "data": {
      "text/plain": [
       "<tf.Tensor: id=10, shape=(3,), dtype=int64, numpy=array([1, 2, 3])>"
      ]
     },
     "execution_count": 4,
     "metadata": {},
     "output_type": "execute_result"
    }
   ],
   "source": [
    "a = tf.constant([1, 2, 3], dtype='int64')\n",
    "\n",
    "a"
   ]
  },
  {
   "cell_type": "code",
   "execution_count": 5,
   "metadata": {},
   "outputs": [
    {
     "name": "stdout",
     "output_type": "stream",
     "text": [
      "[ 1.05618404 -1.38271462 -0.27925556  0.63304793  1.28361572]\n",
      "tf.Tensor([1. 1. 1. 1. 1.], shape=(5,), dtype=float32)\n",
      "tf.Tensor([ 2.056184   -0.38271463  0.72074443  1.6330479   2.2836156 ], shape=(5,), dtype=float32)\n"
     ]
    }
   ],
   "source": [
    "a = np.random.randn(5)\n",
    "\n",
    "b = tf.ones(5)\n",
    "print(a)\n",
    "print(b)\n",
    "print(a + b)"
   ]
  },
  {
   "cell_type": "code",
   "execution_count": 6,
   "metadata": {},
   "outputs": [
    {
     "data": {
      "text/plain": [
       "<tf.Tensor: id=21, shape=(2, 4), dtype=float32, numpy=\n",
       "array([[3.1415927, 3.1415927, 3.1415927, 3.1415927],\n",
       "       [3.1415927, 3.1415927, 3.1415927, 3.1415927]], dtype=float32)>"
      ]
     },
     "execution_count": 6,
     "metadata": {},
     "output_type": "execute_result"
    }
   ],
   "source": [
    "tf.fill((2, 4), np.pi)"
   ]
  },
  {
   "cell_type": "code",
   "execution_count": 7,
   "metadata": {},
   "outputs": [
    {
     "name": "stdout",
     "output_type": "stream",
     "text": [
      "False\n",
      "True\n"
     ]
    }
   ],
   "source": [
    "a = np.array([1, 2, 3])\n",
    "print(tf.is_tensor(a))\n",
    "\n",
    "b = tf.constant([1, 2, 3])\n",
    "print(tf.is_tensor(b))"
   ]
  },
  {
   "cell_type": "markdown",
   "metadata": {},
   "source": [
    "## ones and ones_like, zeros and zeros_lie"
   ]
  },
  {
   "cell_type": "code",
   "execution_count": 8,
   "metadata": {},
   "outputs": [
    {
     "name": "stdout",
     "output_type": "stream",
     "text": [
      "tf.Tensor([[1 1 1]], shape=(1, 3), dtype=int32)\n",
      "tf.Tensor([1 1 1 1], shape=(4,), dtype=int64)\n",
      "tf.Tensor([0 0 0 0], shape=(4,), dtype=int64)\n"
     ]
    }
   ],
   "source": [
    "print(tf.ones((1, 3), dtype='int32'))\n",
    "\n",
    "\n",
    "a = np.array([1, 2, 3, 4])\n",
    "print(tf.ones_like(a))\n",
    "\n",
    "print(tf.zeros_like(a))"
   ]
  },
  {
   "cell_type": "markdown",
   "metadata": {},
   "source": [
    "## size and shape"
   ]
  },
  {
   "cell_type": "code",
   "execution_count": 9,
   "metadata": {},
   "outputs": [
    {
     "name": "stdout",
     "output_type": "stream",
     "text": [
      "(4, 3)\n",
      "(4, 3)\n",
      "tf.Tensor(12, shape=(), dtype=int32)\n"
     ]
    }
   ],
   "source": [
    "\n",
    "a = tf.random.uniform((4, 3))\n",
    "\n",
    "print(a.get_shape())\n",
    "print(a.shape)\n",
    "\n",
    "print(tf.size(a))"
   ]
  },
  {
   "cell_type": "markdown",
   "metadata": {},
   "source": [
    "## Reshape"
   ]
  },
  {
   "cell_type": "code",
   "execution_count": 10,
   "metadata": {},
   "outputs": [
    {
     "name": "stdout",
     "output_type": "stream",
     "text": [
      "(10, 10)\n",
      "(10, 10)\n",
      "(1, 25, 4)\n",
      "(100,)\n"
     ]
    }
   ],
   "source": [
    "a = tf.random.uniform((5, 20))\n",
    "\n",
    "b = tf.reshape(a, (10, 10))\n",
    "print(b.shape)\n",
    "\n",
    "c = tf.reshape(a, (10, -1))\n",
    "print(c.shape)\n",
    "\n",
    "d = tf.reshape(a, (1, -1, 4))\n",
    "print(d.shape)\n",
    "\n",
    "e = tf.reshape(a, (-1,))\n",
    "print(e.shape)"
   ]
  },
  {
   "cell_type": "markdown",
   "metadata": {},
   "source": [
    "## Type-casting"
   ]
  },
  {
   "cell_type": "code",
   "execution_count": 11,
   "metadata": {},
   "outputs": [
    {
     "name": "stdout",
     "output_type": "stream",
     "text": [
      "tf.Tensor([1 2 3], shape=(3,), dtype=int64) \n",
      "\n",
      "Orig  ::   tf.Tensor([0.98031855 0.6233758 ], shape=(2,), dtype=float32)\n",
      "After ::   tf.Tensor([0.98031855 0.62337577], shape=(2,), dtype=float64) \n",
      "\n",
      "Orig  ::   tf.Tensor([1 2], shape=(2,), dtype=int32)\n",
      "After ::   tf.Tensor([1 2], shape=(2,), dtype=int64)\n"
     ]
    }
   ],
   "source": [
    "\n",
    "a = np.array([1, 2, 3])\n",
    "print(tf.cast(a, tf.int64), '\\n')\n",
    "\n",
    "b = tf.random.uniform((2,))\n",
    "print('Orig  ::  ', b)\n",
    "print('After ::  ', tf.cast(b, tf.float64), '\\n')\n",
    "\n",
    "c = tf.constant([1, 2])\n",
    "print('Orig  ::  ', c)\n",
    "print('After ::  ', tf.cast(c, tf.int64))"
   ]
  },
  {
   "cell_type": "markdown",
   "metadata": {},
   "source": [
    "## rank"
   ]
  },
  {
   "cell_type": "code",
   "execution_count": 12,
   "metadata": {},
   "outputs": [
    {
     "name": "stdout",
     "output_type": "stream",
     "text": [
      "tf.Tensor(4, shape=(), dtype=int32)\n"
     ]
    }
   ],
   "source": [
    "a = np.random.randn(3, 4, 4, 7)\n",
    "\n",
    "print(tf.rank(a))"
   ]
  },
  {
   "cell_type": "markdown",
   "metadata": {},
   "source": [
    "## one-hot "
   ]
  },
  {
   "cell_type": "code",
   "execution_count": 13,
   "metadata": {},
   "outputs": [
    {
     "data": {
      "text/plain": [
       "<tf.Tensor: id=83, shape=(8, 4), dtype=float32, numpy=\n",
       "array([[0., 0., 1., 0.],\n",
       "       [1., 0., 0., 0.],\n",
       "       [0., 1., 0., 0.],\n",
       "       [0., 0., 0., 1.],\n",
       "       [0., 0., 1., 0.],\n",
       "       [0., 1., 0., 0.],\n",
       "       [0., 0., 0., 1.],\n",
       "       [1., 0., 0., 0.]], dtype=float32)>"
      ]
     },
     "execution_count": 13,
     "metadata": {},
     "output_type": "execute_result"
    }
   ],
   "source": [
    "tf.one_hot(\n",
    "    indices = [2, 0, 1, 3, 2, 1, 3, 0],\n",
    "    depth=4)\n"
   ]
  },
  {
   "cell_type": "markdown",
   "metadata": {},
   "source": [
    "## Padding"
   ]
  },
  {
   "cell_type": "code",
   "execution_count": 14,
   "metadata": {},
   "outputs": [
    {
     "name": "stdout",
     "output_type": "stream",
     "text": [
      "tf.Tensor(\n",
      "[[9. 8. 7.]\n",
      " [4. 3. 4.]], shape=(2, 3), dtype=float32)\n",
      "(2, 2)\n"
     ]
    },
    {
     "data": {
      "text/plain": [
       "<tf.Tensor: id=88, shape=(3, 8), dtype=float32, numpy=\n",
       "array([[0., 0., 9., 8., 7., 0., 0., 0.],\n",
       "       [0., 0., 4., 3., 4., 0., 0., 0.],\n",
       "       [0., 0., 0., 0., 0., 0., 0., 0.]], dtype=float32)>"
      ]
     },
     "execution_count": 14,
     "metadata": {},
     "output_type": "execute_result"
    }
   ],
   "source": [
    "a = tf.constant([[9.0, 8.0, 7.0], [4.0, 3.0, 4.0]])\n",
    "print(a)\n",
    "\n",
    "p = tf.constant([[0, 1], [2, 3]])\n",
    "print(p.shape)\n",
    "## the first dimension of `p` corresponds to each dimension of `a`\n",
    "## p[:, 0] ==> how many values to add before the specified dimension\n",
    "## p[:, 1] ==> how many values to add after the specified dimension\n",
    "\n",
    "tf.pad(a, p, 'constant')"
   ]
  },
  {
   "cell_type": "code",
   "execution_count": 15,
   "metadata": {},
   "outputs": [
    {
     "data": {
      "text/plain": [
       "<tf.Tensor: id=93, shape=(3, 3), dtype=float32, numpy=\n",
       "array([[1., 0., 0.],\n",
       "       [0., 1., 0.],\n",
       "       [0., 0., 1.]], dtype=float32)>"
      ]
     },
     "execution_count": 15,
     "metadata": {},
     "output_type": "execute_result"
    }
   ],
   "source": [
    "c = tf.eye(3)\n",
    "c"
   ]
  },
  {
   "cell_type": "markdown",
   "metadata": {},
   "source": [
    "## split"
   ]
  },
  {
   "cell_type": "code",
   "execution_count": 16,
   "metadata": {},
   "outputs": [
    {
     "name": "stdout",
     "output_type": "stream",
     "text": [
      "a1:  (4, 4)\n",
      "a2:  (4, 5)\n",
      "a3:  (4, 7)\n"
     ]
    }
   ],
   "source": [
    "a = tf.random.uniform((4, 16))\n",
    "\n",
    "a1, a2, a3 = tf.split(a, num_or_size_splits=[4, 5, 7], axis=1)\n",
    "\n",
    "print('a1: ', a1.shape)\n",
    "print('a2: ', a2.shape)\n",
    "print('a3: ', a3.shape)"
   ]
  },
  {
   "cell_type": "markdown",
   "metadata": {},
   "source": [
    "## squeeze"
   ]
  },
  {
   "cell_type": "code",
   "execution_count": 17,
   "metadata": {},
   "outputs": [
    {
     "name": "stdout",
     "output_type": "stream",
     "text": [
      "(1, 2, 1, 4)\n",
      "(2, 4)\n"
     ]
    }
   ],
   "source": [
    "a = tf.random.uniform((1, 2, 1, 4))\n",
    "print(a.shape)\n",
    "\n",
    "a = tf.squeeze(a)\n",
    "print(a.shape)"
   ]
  },
  {
   "cell_type": "markdown",
   "metadata": {},
   "source": [
    "## stack"
   ]
  },
  {
   "cell_type": "code",
   "execution_count": 18,
   "metadata": {},
   "outputs": [
    {
     "name": "stdout",
     "output_type": "stream",
     "text": [
      "axis=0 ==>  (3, 4, 5)\n",
      "axis=1 ==>  (4, 3, 5)\n"
     ]
    }
   ],
   "source": [
    "a1 = tf.random.uniform((4, 5))\n",
    "a2 = tf.random.uniform((4, 5))\n",
    "a3 = tf.random.uniform((4, 5))\n",
    "\n",
    "print('axis=0 ==> ', tf.stack((a1, a2, a3), axis=0).shape)\n",
    "\n",
    "print('axis=1 ==> ', tf.stack((a1, a2, a3), axis=1).shape)\n"
   ]
  },
  {
   "cell_type": "markdown",
   "metadata": {},
   "source": [
    "## Reverse"
   ]
  },
  {
   "cell_type": "code",
   "execution_count": 19,
   "metadata": {},
   "outputs": [
    {
     "name": "stdout",
     "output_type": "stream",
     "text": [
      "tf.Tensor(\n",
      "[[0 1 2]\n",
      " [3 4 5]\n",
      " [6 7 8]], shape=(3, 3), dtype=int64)\n",
      "tf.Tensor(\n",
      "[[6 7 8]\n",
      " [3 4 5]\n",
      " [0 1 2]], shape=(3, 3), dtype=int64)\n",
      "tf.Tensor(\n",
      "[[2 1 0]\n",
      " [5 4 3]\n",
      " [8 7 6]], shape=(3, 3), dtype=int64)\n",
      "tf.Tensor(\n",
      "[[8 7 6]\n",
      " [5 4 3]\n",
      " [2 1 0]], shape=(3, 3), dtype=int64)\n"
     ]
    }
   ],
   "source": [
    "a = np.arange(9)\n",
    "a = tf.reshape(a, (3, 3))\n",
    "print(a)\n",
    "\n",
    "a_rev0 = tf.reverse(a, axis=(0,))\n",
    "print(a_rev0)\n",
    "\n",
    "a_rev1 = tf.reverse(a, axis=(1,))\n",
    "print(a_rev1)\n",
    "\n",
    "a_rev2 = tf.reverse(a, axis=(0, 1))\n",
    "print(a_rev2)\n"
   ]
  },
  {
   "cell_type": "markdown",
   "metadata": {},
   "source": [
    "## Gradients"
   ]
  },
  {
   "cell_type": "code",
   "execution_count": 20,
   "metadata": {},
   "outputs": [
    {
     "data": {
      "text/plain": [
       "<tf.Tensor: id=164, shape=(3, 4), dtype=float32, numpy=\n",
       "array([[0.64276767, 0.34620285, 1.8753572 , 0.5555122 ],\n",
       "       [1.7459497 , 0.5125499 , 1.6727219 , 1.3211439 ],\n",
       "       [1.3780808 , 1.4605448 , 0.8230636 , 1.5085907 ]], dtype=float32)>"
      ]
     },
     "execution_count": 20,
     "metadata": {},
     "output_type": "execute_result"
    }
   ],
   "source": [
    "\n",
    "xs = tf.random.uniform((3, 4))\n",
    "\n",
    "with tf.GradientTape() as g:\n",
    "    g.watch(xs)\n",
    "    ys = xs * xs\n",
    "#\n",
    "g.gradient(ys, xs)"
   ]
  },
  {
   "cell_type": "code",
   "execution_count": null,
   "metadata": {},
   "outputs": [],
   "source": []
  }
 ],
 "metadata": {
  "kernelspec": {
   "display_name": "Python 3",
   "language": "python",
   "name": "python3"
  },
  "language_info": {
   "codemirror_mode": {
    "name": "ipython",
    "version": 3
   },
   "file_extension": ".py",
   "mimetype": "text/x-python",
   "name": "python",
   "nbconvert_exporter": "python",
   "pygments_lexer": "ipython3",
   "version": "3.6.8"
  }
 },
 "nbformat": 4,
 "nbformat_minor": 2
}
