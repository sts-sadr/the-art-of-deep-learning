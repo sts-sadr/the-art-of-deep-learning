{
 "cells": [
  {
   "cell_type": "markdown",
   "metadata": {},
   "source": [
    "There are two distinct ways to create a dataset:\n",
    "\n",
    " 1. A ***data source*** constructs a Dataset from data stored in memory in one ore more files.\n",
    " \n",
    " 2. A ***data transformation*** constructs a dataset from one or more tf.data.Dataset objects.\n",
    "\n",
    "\n",
    "\n",
    " * If data is in memory:\n",
    "    * `tf.data.Dataset.from_tensors()`\n",
    "    * `tf.data.Dataset.from_tensor_slices()`\n",
    "    \n",
    " * If data is in a stored file like `TFRecord` format:\n",
    "    * `tf.data.TFRecordDataset()`"
   ]
  },
  {
   "cell_type": "code",
   "execution_count": 2,
   "metadata": {},
   "outputs": [
    {
     "name": "stdout",
     "output_type": "stream",
     "text": [
      "tf.Tensor(0, shape=(), dtype=int64)\n",
      "tf.Tensor(1, shape=(), dtype=int64)\n",
      "tf.Tensor(2, shape=(), dtype=int64)\n",
      "tf.Tensor(3, shape=(), dtype=int64)\n",
      "tf.Tensor(4, shape=(), dtype=int64)\n",
      "tf.Tensor(5, shape=(), dtype=int64)\n",
      "tf.Tensor(6, shape=(), dtype=int64)\n",
      "tf.Tensor(7, shape=(), dtype=int64)\n",
      "tf.Tensor(8, shape=(), dtype=int64)\n",
      "tf.Tensor(9, shape=(), dtype=int64)\n",
      "tf.Tensor(10, shape=(), dtype=int64)\n",
      "tf.Tensor(11, shape=(), dtype=int64)\n",
      "tf.Tensor(12, shape=(), dtype=int64)\n",
      "tf.Tensor(13, shape=(), dtype=int64)\n",
      "tf.Tensor(14, shape=(), dtype=int64)\n",
      "tf.Tensor(15, shape=(), dtype=int64)\n"
     ]
    }
   ],
   "source": [
    "import tensorflow as tf\n",
    "\n",
    "dataset = tf.data.Dataset.range(16)\n",
    "\n",
    "for i, elem in enumerate(dataset):\n",
    "    print(elem)"
   ]
  },
  {
   "cell_type": "code",
   "execution_count": 3,
   "metadata": {},
   "outputs": [
    {
     "name": "stdout",
     "output_type": "stream",
     "text": [
      "tf.Tensor([0 1 2 3], shape=(4,), dtype=int64)\n",
      "tf.Tensor([4 5 6 7], shape=(4,), dtype=int64)\n",
      "tf.Tensor([ 8  9 10 11], shape=(4,), dtype=int64)\n",
      "tf.Tensor([12 13 14 15], shape=(4,), dtype=int64)\n"
     ]
    }
   ],
   "source": [
    "batched_dataset = dataset.batch(4)\n",
    "\n",
    "for i, elem in enumerate(batched_dataset):\n",
    "    print(elem)"
   ]
  },
  {
   "cell_type": "code",
   "execution_count": 24,
   "metadata": {},
   "outputs": [
    {
     "name": "stdout",
     "output_type": "stream",
     "text": [
      "tf.Tensor(120, shape=(), dtype=int64)\n"
     ]
    }
   ],
   "source": [
    "dataset = tf.data.Dataset.range(16)\n",
    "    \n",
    "print(dataset.reduce(tf.constant(0, dtype='int64'), lambda state, value: state + value))"
   ]
  },
  {
   "cell_type": "markdown",
   "metadata": {},
   "source": [
    "## Applying transformations"
   ]
  },
  {
   "cell_type": "code",
   "execution_count": 28,
   "metadata": {},
   "outputs": [
    {
     "name": "stdout",
     "output_type": "stream",
     "text": [
      "tf.Tensor(\n",
      "[[0.95739675 0.42748928 0.24500048 0.93642485 0.12181795]\n",
      " [0.66007257 0.30977857 0.9706702  0.07444978 0.9007733 ]\n",
      " [0.5745696  0.11842835 0.35037625 0.23001218 0.12898052]\n",
      " [0.13482332 0.13462055 0.1631118  0.27879    0.58187914]], shape=(4, 5), dtype=float32)\n",
      "tf.Tensor([ 0.9147935  -0.14502144 -0.50999904  0.8728497  -0.7563641 ], shape=(5,), dtype=float32)\n",
      "tf.Tensor([ 0.32014513 -0.38044286  0.94134045 -0.85110044  0.8015466 ], shape=(5,), dtype=float32)\n",
      "tf.Tensor([ 0.14913917 -0.7631433  -0.2992475  -0.53997564 -0.74203897], shape=(5,), dtype=float32)\n",
      "tf.Tensor([-0.73035336 -0.7307589  -0.6737764  -0.44242     0.16375828], shape=(5,), dtype=float32)\n"
     ]
    }
   ],
   "source": [
    "A = tf.random.uniform([4, 5])\n",
    "print(A)\n",
    "\n",
    "ds1 = tf.data.Dataset.from_tensor_slices(A)\n",
    "\n",
    "## transforming\n",
    "ds2 = ds1.map(lambda x: 2*x - 1.0)\n",
    "\n",
    "for elem in ds2:\n",
    "    print(elem)"
   ]
  },
  {
   "cell_type": "code",
   "execution_count": 42,
   "metadata": {},
   "outputs": [
    {
     "name": "stdout",
     "output_type": "stream",
     "text": [
      "tf.Tensor(\n",
      "[[0.29966164 0.8284199  0.35511267]\n",
      " [0.9710816  0.23627019 0.7314824 ]\n",
      " [0.98152757 0.15410101 0.2688105 ]\n",
      " [0.8460425  0.8091365  0.9296279 ]\n",
      " [0.01610696 0.03823996 0.86665654]], shape=(5, 3), dtype=float32)\n",
      "tf.Tensor([0.67093456 0.75870633 0.3019017  0.9223398 ], shape=(4,), dtype=float32)\n"
     ]
    }
   ],
   "source": [
    "A = tf.random.uniform([4, 2])\n",
    "B = tf.random.uniform([4, 3])\n",
    "\n",
    "ds1 = tf.data.Dataset.from_tensor_slices(A)\n",
    "ds2 = tf.data.Dataset.from_tensor_slices(B)\n",
    "    \n",
    "ds3 = tf.data.Dataset.zip((ds1, ds2))\n",
    "ds2.filter(lambda x, y: )"
   ]
  },
  {
   "cell_type": "code",
   "execution_count": 23,
   "metadata": {},
   "outputs": [
    {
     "name": "stdout",
     "output_type": "stream",
     "text": [
      "tf.Tensor(0, shape=(), dtype=int64)\n",
      "tf.Tensor(\n",
      "[[0.58689535 0.18678069 0.8242061  0.98863506 0.08575535]\n",
      " [0.52911484 0.35827053 0.1366111  0.42180657 0.85821474]\n",
      " [0.46148193 0.3394221  0.10129654 0.14419067 0.744663  ]\n",
      " [0.35144687 0.251024   0.55445135 0.6826707  0.28955042]], shape=(4, 5), dtype=float32)\n"
     ]
    }
   ],
   "source": [
    "a = tf.constant(0, dtype='int64')\n",
    "print(a)\n",
    "\n",
    "b = tf.random.uniform([4, 5])\n",
    "print(b)"
   ]
  },
  {
   "cell_type": "code",
   "execution_count": 43,
   "metadata": {},
   "outputs": [
    {
     "data": {
      "text/plain": [
       "TensorShape([4, 5])"
      ]
     },
     "execution_count": 43,
     "metadata": {},
     "output_type": "execute_result"
    }
   ],
   "source": [
    "A.get_shape()"
   ]
  },
  {
   "cell_type": "markdown",
   "metadata": {},
   "source": [
    "## Repeat, Shuffle and Batch"
   ]
  },
  {
   "cell_type": "code",
   "execution_count": 91,
   "metadata": {},
   "outputs": [
    {
     "name": "stdout",
     "output_type": "stream",
     "text": [
      "<TensorSliceDataset shapes: (1,), types: tf.int64>\n"
     ]
    }
   ],
   "source": [
    "# Let's build a toy dataset\n",
    "\n",
    "import numpy as np\n",
    "x_arr = np.arange(12).reshape(-1, 1)\n",
    "\n",
    "ds_orig = tf.data.Dataset.from_tensor_slices(x_arr)\n",
    "\n",
    "print(ds_orig)"
   ]
  },
  {
   "cell_type": "markdown",
   "metadata": {},
   "source": [
    "### Shuffle with `buffer_size`"
   ]
  },
  {
   "cell_type": "code",
   "execution_count": 105,
   "metadata": {},
   "outputs": [
    {
     "name": "stdout",
     "output_type": "stream",
     "text": [
      "[0 2 3 1]\n",
      "[4 5 6 8]\n",
      "[ 9  7 10 11]\n"
     ]
    }
   ],
   "source": [
    "ds = ds_orig.shuffle(buffer_size=2)\n",
    "ds = ds.batch(batch_size=4)\n",
    "\n",
    "for batch in ds.take(3):\n",
    "    print(batch.numpy().flatten())"
   ]
  },
  {
   "cell_type": "markdown",
   "metadata": {},
   "source": [
    "### Full-shuffling with `buffer_size=len(x_arr)`"
   ]
  },
  {
   "cell_type": "code",
   "execution_count": 107,
   "metadata": {},
   "outputs": [
    {
     "name": "stdout",
     "output_type": "stream",
     "text": [
      "[ 5 11  6  3]\n",
      "[8 0 1 2]\n",
      "[ 7  4  9 10]\n"
     ]
    }
   ],
   "source": [
    "ds = ds_orig.shuffle(buffer_size=len(x_arr))\n",
    "ds = ds.batch(batch_size=4)\n",
    "\n",
    "for batch in ds.take(3):\n",
    "    print(batch.numpy().flatten())"
   ]
  },
  {
   "cell_type": "markdown",
   "metadata": {},
   "source": [
    "### Order matters:\n",
    "\n",
    " * **(1) Batch -> Shuffle -> Repeat**\n",
    " \n",
    "   **$\\longrightarrow$ The lements within each batch are not shuffled**"
   ]
  },
  {
   "cell_type": "code",
   "execution_count": 109,
   "metadata": {},
   "outputs": [
    {
     "name": "stdout",
     "output_type": "stream",
     "text": [
      "[10 11]\n",
      "[5 6 7 8 9]\n",
      "[0 1 2 3 4]\n",
      "[0 1 2 3 4]\n"
     ]
    }
   ],
   "source": [
    "ds = ds_orig.batch(batch_size=5)\n",
    "ds = ds.shuffle(buffer_size=len(x_arr))\n",
    "ds = ds.repeat()\n",
    "\n",
    "for batch in ds.take(4):\n",
    "    print(batch.numpy().flatten())"
   ]
  },
  {
   "cell_type": "markdown",
   "metadata": {},
   "source": [
    " * **(2) Shuffle -> Batch -> Repeat**\n"
   ]
  },
  {
   "cell_type": "code",
   "execution_count": 92,
   "metadata": {},
   "outputs": [
    {
     "name": "stdout",
     "output_type": "stream",
     "text": [
      "[ 4 10  6  8  0]\n",
      "[ 1  3  7  9 11]\n",
      "[5 2]\n",
      "[ 5  2 11 10  4]\n"
     ]
    }
   ],
   "source": [
    "ds = ds_orig.shuffle(buffer_size=len(x_arr))\n",
    "ds = ds.batch(batch_size=5)\n",
    "ds = ds.repeat()\n",
    "\n",
    "for batch in ds.take(4):\n",
    "    print(batch.numpy().flatten())"
   ]
  },
  {
   "cell_type": "markdown",
   "metadata": {},
   "source": [
    " * **(3) Shuffle -> Repeat -> Batch**"
   ]
  },
  {
   "cell_type": "code",
   "execution_count": 95,
   "metadata": {},
   "outputs": [
    {
     "name": "stdout",
     "output_type": "stream",
     "text": [
      "[9 4 5 8 2]\n",
      "[ 1 10  7  3  0]\n",
      "[ 6 11  3  2  8]\n",
      "[10  1  6  7  4]\n"
     ]
    }
   ],
   "source": [
    "ds = ds_orig.shuffle(buffer_size=len(x_arr))\n",
    "ds = ds.repeat()\n",
    "ds = ds.batch(5)\n",
    "\n",
    "for batch in ds.take(4):\n",
    "    print(batch.numpy().flatten())"
   ]
  },
  {
   "cell_type": "markdown",
   "metadata": {},
   "source": [
    "## Apply a function\n",
    "\n",
    " * Change the range of input values from $[0, 1]$ to $[-1, 1]$"
   ]
  },
  {
   "cell_type": "code",
   "execution_count": 113,
   "metadata": {},
   "outputs": [
    {
     "name": "stdout",
     "output_type": "stream",
     "text": [
      "[0.9545886  0.87917942 0.62141088 0.09069598 0.92583994 0.43794825]\n",
      "[ 0.90917719  0.75835883  0.24282176 -0.81860804  0.85167988 -0.12410351]\n"
     ]
    }
   ],
   "source": [
    "############ \n",
    "def change_range(x):\n",
    "    return 2*x-1\n",
    "\n",
    "x_arr = np.random.uniform(size=(6))\n",
    "print(x_arr)\n",
    "\n",
    "ds = tf.data.Dataset.from_tensor_slices(x_arr)\n",
    "ds = ds.map(change_range)\n",
    "\n",
    "ds = ds.batch(len(x_arr))\n",
    "batch, = ds.take(1)\n",
    "print(batch.numpy())"
   ]
  },
  {
   "cell_type": "markdown",
   "metadata": {},
   "source": [
    "# Feature-column\n",
    "\n",
    " * A configuration class that transforms and prepares features for input to a model\n",
    " * Mainly for structured data\n",
    " * The instructions given by `feature_column` will be embedded into model graph"
   ]
  },
  {
   "cell_type": "markdown",
   "metadata": {},
   "source": [
    "### 1. Categorical Features"
   ]
  },
  {
   "cell_type": "code",
   "execution_count": 66,
   "metadata": {},
   "outputs": [
    {
     "data": {
      "text/plain": [
       "IdentityCategoricalColumn(key='cat-feat-1', number_buckets=4, default_value=None)"
      ]
     },
     "execution_count": 66,
     "metadata": {},
     "output_type": "execute_result"
    }
   ],
   "source": [
    "cat_feats = tf.feature_column.categorical_column_with_identity(\n",
    "    key='cat-feat-1', num_buckets=4)\n",
    "\n",
    "#help(tf.feature_column.categorical_column_with_identity)\n",
    "cat_feats"
   ]
  },
  {
   "cell_type": "code",
   "execution_count": 68,
   "metadata": {},
   "outputs": [
    {
     "data": {
      "text/plain": [
       "EmbeddingColumn(categorical_column=IdentityCategoricalColumn(key='cat-feat-1', number_buckets=4, default_value=None), dimension=10, combiner='mean', initializer=<tensorflow.python.ops.init_ops.TruncatedNormal object at 0x7f937017dac8>, ckpt_to_load_from=None, tensor_name_in_ckpt=None, max_norm=None, trainable=True)"
      ]
     },
     "execution_count": 68,
     "metadata": {},
     "output_type": "execute_result"
    }
   ],
   "source": [
    "## embed this feature to one-hot encoding\n",
    "\n",
    "feat_embed = tf.feature_column.embedding_column(\n",
    "    cat_feats, dimension=10)\n",
    "\n",
    "feat_embed"
   ]
  },
  {
   "cell_type": "markdown",
   "metadata": {},
   "source": [
    "### 2. Numeric Features"
   ]
  },
  {
   "cell_type": "code",
   "execution_count": 69,
   "metadata": {},
   "outputs": [
    {
     "data": {
      "text/plain": [
       "NumericColumn(key='numeric-feats', shape=(10,), default_value=None, dtype=tf.float32, normalizer_fn=None)"
      ]
     },
     "execution_count": 69,
     "metadata": {},
     "output_type": "execute_result"
    }
   ],
   "source": [
    "numeric_feats = tf.feature_column.numeric_column(\n",
    "    key='numeric-feats', shape=(10,))\n",
    "\n",
    "numeric_feats"
   ]
  },
  {
   "cell_type": "markdown",
   "metadata": {},
   "source": [
    "### 3. Combine all features"
   ]
  },
  {
   "cell_type": "code",
   "execution_count": 73,
   "metadata": {},
   "outputs": [
    {
     "data": {
      "text/plain": [
       "[EmbeddingColumn(categorical_column=IdentityCategoricalColumn(key='cat-feat-1', number_buckets=4, default_value=None), dimension=10, combiner='mean', initializer=<tensorflow.python.ops.init_ops.TruncatedNormal object at 0x7f937017dac8>, ckpt_to_load_from=None, tensor_name_in_ckpt=None, max_norm=None, trainable=True),\n",
       " NumericColumn(key='numeric-feats', shape=(10,), default_value=None, dtype=tf.float32, normalizer_fn=None)]"
      ]
     },
     "execution_count": 73,
     "metadata": {},
     "output_type": "execute_result"
    }
   ],
   "source": [
    "columns = [feat_embed, numeric_feats]\n",
    "\n",
    "columns"
   ]
  },
  {
   "cell_type": "markdown",
   "metadata": {},
   "source": [
    " * Now, we can define a feature layer based on these features"
   ]
  },
  {
   "cell_type": "code",
   "execution_count": 74,
   "metadata": {},
   "outputs": [
    {
     "data": {
      "text/plain": [
       "<tensorflow.python.feature_column.feature_column_v2.DenseFeatures at 0x7f93700da6a0>"
      ]
     },
     "execution_count": 74,
     "metadata": {},
     "output_type": "execute_result"
    }
   ],
   "source": [
    "feature_layer = tf.keras.layers.DenseFeatures(columns)\n",
    "\n",
    "feature_layer"
   ]
  },
  {
   "cell_type": "code",
   "execution_count": null,
   "metadata": {},
   "outputs": [],
   "source": []
  }
 ],
 "metadata": {
  "kernelspec": {
   "display_name": "Python 3",
   "language": "python",
   "name": "python3"
  },
  "language_info": {
   "codemirror_mode": {
    "name": "ipython",
    "version": 3
   },
   "file_extension": ".py",
   "mimetype": "text/x-python",
   "name": "python",
   "nbconvert_exporter": "python",
   "pygments_lexer": "ipython3",
   "version": "3.6.8"
  }
 },
 "nbformat": 4,
 "nbformat_minor": 2
}
